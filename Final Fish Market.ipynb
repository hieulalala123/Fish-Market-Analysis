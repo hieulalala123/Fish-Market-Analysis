{
 "cells": [
  {
   "cell_type": "markdown",
   "id": "6a1694c7",
   "metadata": {},
   "source": [
    "**REGRESSION ANALYSIS WITH FISH MARKET DATA**\n",
    "\n",
    "**Introduction**\n",
    "\n",
    "\n",
    "<font size = \"4\"> **Tran Trung Hieu**\n",
    "</font> <br>\n",
    "\n",
    "<font size = \"3\"> *03 March 2023*\n",
    "</font> \n",
    "\n",
    "I want to practice regression analysis by some fundamental models, such as Multiple Linear Regression, Lasso Regression, Ridge Regression, Elastic-Net Regression.\n",
    "\n",
    "In this notebook, I chose the hyperparameters for regularized regression at random rather than taking tuning into consideration.\n",
    "\n",
    "I divided my analysis into the following steps:\n",
    "\n",
    "\n",
    "1. **[Conceptualizing the modeling task](#Conceptualize)**\n",
    "2. **[Data Collection](#Collection)**\n",
    "3. **[Data Exploration](#Exploration)**\n",
    "4. **[Data Preparation](#Preparation)**\n",
    "5. **[Model Training](#Modeltraining)**\n"
   ]
  },
  {
   "cell_type": "markdown",
   "id": "aeb0d2ff",
   "metadata": {},
   "source": [
    "## Conceptualizing the modeling task <a name=\"Conceptualize\"></a>\n",
    "\n",
    "The aim of the model is to establish the relationships between the target (weight of the fish) and the features."
   ]
  },
  {
   "cell_type": "markdown",
   "id": "6e64acb2",
   "metadata": {},
   "source": [
    "## Data collection <a name=\"Collection\"></a>\n",
    "\n",
    "The dataset is published on Kaggle by AUNG PYAE. You can download this file [here](https://www.kaggle.com/datasets/aungpyaeap/fish-market)."
   ]
  },
  {
   "cell_type": "markdown",
   "id": "2eb68164",
   "metadata": {},
   "source": [
    "## Data Exploration <a name=\"Exploration\"></a>"
   ]
  },
  {
   "cell_type": "code",
   "execution_count": 1,
   "id": "53c633e5",
   "metadata": {
    "scrolled": true
   },
   "outputs": [
    {
     "name": "stderr",
     "output_type": "stream",
     "text": [
      "C:\\Users\\TrungHieu\\anaconda3\\lib\\site-packages\\statsmodels\\tsa\\base\\tsa_model.py:7: FutureWarning: pandas.Int64Index is deprecated and will be removed from pandas in a future version. Use pandas.Index with the appropriate dtype instead.\n",
      "  from pandas import (to_datetime, Int64Index, DatetimeIndex, Period,\n",
      "C:\\Users\\TrungHieu\\anaconda3\\lib\\site-packages\\statsmodels\\tsa\\base\\tsa_model.py:7: FutureWarning: pandas.Float64Index is deprecated and will be removed from pandas in a future version. Use pandas.Index with the appropriate dtype instead.\n",
      "  from pandas import (to_datetime, Int64Index, DatetimeIndex, Period,\n"
     ]
    }
   ],
   "source": [
    "# ========== Import important libraries ==========\n",
    "import numpy as np\n",
    "import pandas as pd\n",
    "import matplotlib.pyplot as plt\n",
    "import seaborn as sns\n",
    "from sklearn.linear_model import LinearRegression,Ridge, Lasso, ElasticNet\n",
    "from sklearn.preprocessing import StandardScaler\n",
    "from sklearn.model_selection import train_test_split\n",
    "import statsmodels.api as sm\n",
    "from statsmodels.stats.outliers_influence import variance_inflation_factor\n",
    "from statsmodels.stats.diagnostic import het_white\n",
    "from statsmodels.tools.eval_measures import rmse\n",
    "from sklearn.metrics import mean_squared_error\n",
    "import os\n",
    "import warnings\n",
    "warnings.filterwarnings(\"ignore\")"
   ]
  },
  {
   "cell_type": "code",
   "execution_count": 2,
   "id": "a0104f59",
   "metadata": {},
   "outputs": [
    {
     "data": {
      "text/plain": [
       "'C:\\\\Users\\\\TrungHieu\\\\Desktop\\\\AI Learning\\\\Project\\\\1.Regression Analysis on Fish Market Data'"
      ]
     },
     "execution_count": 2,
     "metadata": {},
     "output_type": "execute_result"
    }
   ],
   "source": [
    "os.getcwd()"
   ]
  },
  {
   "cell_type": "code",
   "execution_count": 3,
   "id": "44bace11",
   "metadata": {
    "scrolled": true
   },
   "outputs": [
    {
     "data": {
      "text/html": [
       "<div>\n",
       "<style scoped>\n",
       "    .dataframe tbody tr th:only-of-type {\n",
       "        vertical-align: middle;\n",
       "    }\n",
       "\n",
       "    .dataframe tbody tr th {\n",
       "        vertical-align: top;\n",
       "    }\n",
       "\n",
       "    .dataframe thead th {\n",
       "        text-align: right;\n",
       "    }\n",
       "</style>\n",
       "<table border=\"1\" class=\"dataframe\">\n",
       "  <thead>\n",
       "    <tr style=\"text-align: right;\">\n",
       "      <th></th>\n",
       "      <th>Species</th>\n",
       "      <th>Weight</th>\n",
       "      <th>Length1</th>\n",
       "      <th>Length2</th>\n",
       "      <th>Length3</th>\n",
       "      <th>Height</th>\n",
       "      <th>Width</th>\n",
       "    </tr>\n",
       "  </thead>\n",
       "  <tbody>\n",
       "    <tr>\n",
       "      <th>0</th>\n",
       "      <td>Bream</td>\n",
       "      <td>242.0</td>\n",
       "      <td>23.2</td>\n",
       "      <td>25.4</td>\n",
       "      <td>30.0</td>\n",
       "      <td>11.5200</td>\n",
       "      <td>4.0200</td>\n",
       "    </tr>\n",
       "    <tr>\n",
       "      <th>1</th>\n",
       "      <td>Bream</td>\n",
       "      <td>290.0</td>\n",
       "      <td>24.0</td>\n",
       "      <td>26.3</td>\n",
       "      <td>31.2</td>\n",
       "      <td>12.4800</td>\n",
       "      <td>4.3056</td>\n",
       "    </tr>\n",
       "    <tr>\n",
       "      <th>2</th>\n",
       "      <td>Bream</td>\n",
       "      <td>340.0</td>\n",
       "      <td>23.9</td>\n",
       "      <td>26.5</td>\n",
       "      <td>31.1</td>\n",
       "      <td>12.3778</td>\n",
       "      <td>4.6961</td>\n",
       "    </tr>\n",
       "    <tr>\n",
       "      <th>3</th>\n",
       "      <td>Bream</td>\n",
       "      <td>363.0</td>\n",
       "      <td>26.3</td>\n",
       "      <td>29.0</td>\n",
       "      <td>33.5</td>\n",
       "      <td>12.7300</td>\n",
       "      <td>4.4555</td>\n",
       "    </tr>\n",
       "    <tr>\n",
       "      <th>4</th>\n",
       "      <td>Bream</td>\n",
       "      <td>430.0</td>\n",
       "      <td>26.5</td>\n",
       "      <td>29.0</td>\n",
       "      <td>34.0</td>\n",
       "      <td>12.4440</td>\n",
       "      <td>5.1340</td>\n",
       "    </tr>\n",
       "    <tr>\n",
       "      <th>...</th>\n",
       "      <td>...</td>\n",
       "      <td>...</td>\n",
       "      <td>...</td>\n",
       "      <td>...</td>\n",
       "      <td>...</td>\n",
       "      <td>...</td>\n",
       "      <td>...</td>\n",
       "    </tr>\n",
       "    <tr>\n",
       "      <th>154</th>\n",
       "      <td>Smelt</td>\n",
       "      <td>12.2</td>\n",
       "      <td>11.5</td>\n",
       "      <td>12.2</td>\n",
       "      <td>13.4</td>\n",
       "      <td>2.0904</td>\n",
       "      <td>1.3936</td>\n",
       "    </tr>\n",
       "    <tr>\n",
       "      <th>155</th>\n",
       "      <td>Smelt</td>\n",
       "      <td>13.4</td>\n",
       "      <td>11.7</td>\n",
       "      <td>12.4</td>\n",
       "      <td>13.5</td>\n",
       "      <td>2.4300</td>\n",
       "      <td>1.2690</td>\n",
       "    </tr>\n",
       "    <tr>\n",
       "      <th>156</th>\n",
       "      <td>Smelt</td>\n",
       "      <td>12.2</td>\n",
       "      <td>12.1</td>\n",
       "      <td>13.0</td>\n",
       "      <td>13.8</td>\n",
       "      <td>2.2770</td>\n",
       "      <td>1.2558</td>\n",
       "    </tr>\n",
       "    <tr>\n",
       "      <th>157</th>\n",
       "      <td>Smelt</td>\n",
       "      <td>19.7</td>\n",
       "      <td>13.2</td>\n",
       "      <td>14.3</td>\n",
       "      <td>15.2</td>\n",
       "      <td>2.8728</td>\n",
       "      <td>2.0672</td>\n",
       "    </tr>\n",
       "    <tr>\n",
       "      <th>158</th>\n",
       "      <td>Smelt</td>\n",
       "      <td>19.9</td>\n",
       "      <td>13.8</td>\n",
       "      <td>15.0</td>\n",
       "      <td>16.2</td>\n",
       "      <td>2.9322</td>\n",
       "      <td>1.8792</td>\n",
       "    </tr>\n",
       "  </tbody>\n",
       "</table>\n",
       "<p>159 rows × 7 columns</p>\n",
       "</div>"
      ],
      "text/plain": [
       "    Species  Weight  Length1  Length2  Length3   Height   Width\n",
       "0     Bream   242.0     23.2     25.4     30.0  11.5200  4.0200\n",
       "1     Bream   290.0     24.0     26.3     31.2  12.4800  4.3056\n",
       "2     Bream   340.0     23.9     26.5     31.1  12.3778  4.6961\n",
       "3     Bream   363.0     26.3     29.0     33.5  12.7300  4.4555\n",
       "4     Bream   430.0     26.5     29.0     34.0  12.4440  5.1340\n",
       "..      ...     ...      ...      ...      ...      ...     ...\n",
       "154   Smelt    12.2     11.5     12.2     13.4   2.0904  1.3936\n",
       "155   Smelt    13.4     11.7     12.4     13.5   2.4300  1.2690\n",
       "156   Smelt    12.2     12.1     13.0     13.8   2.2770  1.2558\n",
       "157   Smelt    19.7     13.2     14.3     15.2   2.8728  2.0672\n",
       "158   Smelt    19.9     13.8     15.0     16.2   2.9322  1.8792\n",
       "\n",
       "[159 rows x 7 columns]"
      ]
     },
     "execution_count": 3,
     "metadata": {},
     "output_type": "execute_result"
    }
   ],
   "source": [
    "# ========== Import dataset ==========\n",
    "path = 'C:\\\\Users\\\\TrungHieu\\\\Desktop\\\\AI Learning\\\\Project\\\\1.Regression Analysis on Fish Market Data\\Fish Dataset.csv'\n",
    "df = pd.read_csv(path)\n",
    "\n",
    "# Show the full data\n",
    "\n",
    "df"
   ]
  },
  {
   "cell_type": "markdown",
   "id": "9ddf2529",
   "metadata": {},
   "source": [
    "The dataset is structure data which contains 159 observations and 7 characteristics each observation. This dataset is a record of 7 common different fish species in fish market sales. Each record has 7 fields, which are:\n",
    "* Species: species name of fish\n",
    "* Weight: weight of fish in Gram\n",
    "* Length1: vertical length in centimeter\n",
    "* Length2: diagonal length in centimeter\n",
    "* Length3: cross length in centimeter\n",
    "* Height: height in centimeter\n",
    "* Width: diagonal width in centimeter"
   ]
  },
  {
   "cell_type": "code",
   "execution_count": 4,
   "id": "36d22f60",
   "metadata": {
    "scrolled": true
   },
   "outputs": [
    {
     "name": "stdout",
     "output_type": "stream",
     "text": [
      "<class 'pandas.core.frame.DataFrame'>\n",
      "RangeIndex: 159 entries, 0 to 158\n",
      "Data columns (total 7 columns):\n",
      " #   Column   Non-Null Count  Dtype  \n",
      "---  ------   --------------  -----  \n",
      " 0   Species  159 non-null    object \n",
      " 1   Weight   159 non-null    float64\n",
      " 2   Length1  159 non-null    float64\n",
      " 3   Length2  159 non-null    float64\n",
      " 4   Length3  159 non-null    float64\n",
      " 5   Height   159 non-null    float64\n",
      " 6   Width    159 non-null    float64\n",
      "dtypes: float64(6), object(1)\n",
      "memory usage: 8.8+ KB\n"
     ]
    }
   ],
   "source": [
    "# Check for data-type of each field\n",
    "\n",
    "df.info()"
   ]
  },
  {
   "cell_type": "markdown",
   "id": "79d47aa1",
   "metadata": {},
   "source": [
    "There is no null value in this dataset. \n",
    "\n"
   ]
  },
  {
   "cell_type": "code",
   "execution_count": 5,
   "id": "083900f1",
   "metadata": {
    "scrolled": true
   },
   "outputs": [
    {
     "data": {
      "text/plain": [
       "Species    0\n",
       "Weight     0\n",
       "Length1    0\n",
       "Length2    0\n",
       "Length3    0\n",
       "Height     0\n",
       "Width      0\n",
       "dtype: int64"
      ]
     },
     "execution_count": 5,
     "metadata": {},
     "output_type": "execute_result"
    }
   ],
   "source": [
    "# Other way to check missing value each columns\n",
    "df.isnull().sum()"
   ]
  },
  {
   "cell_type": "code",
   "execution_count": 6,
   "id": "48a7166f",
   "metadata": {
    "scrolled": true
   },
   "outputs": [
    {
     "data": {
      "text/html": [
       "<div>\n",
       "<style scoped>\n",
       "    .dataframe tbody tr th:only-of-type {\n",
       "        vertical-align: middle;\n",
       "    }\n",
       "\n",
       "    .dataframe tbody tr th {\n",
       "        vertical-align: top;\n",
       "    }\n",
       "\n",
       "    .dataframe thead th {\n",
       "        text-align: right;\n",
       "    }\n",
       "</style>\n",
       "<table border=\"1\" class=\"dataframe\">\n",
       "  <thead>\n",
       "    <tr style=\"text-align: right;\">\n",
       "      <th></th>\n",
       "      <th>Species</th>\n",
       "      <th>Weight</th>\n",
       "      <th>Length1</th>\n",
       "      <th>Length2</th>\n",
       "      <th>Length3</th>\n",
       "      <th>Height</th>\n",
       "      <th>Width</th>\n",
       "    </tr>\n",
       "  </thead>\n",
       "  <tbody>\n",
       "    <tr>\n",
       "      <th>0</th>\n",
       "      <td>Bream</td>\n",
       "      <td>242.0</td>\n",
       "      <td>23.2</td>\n",
       "      <td>25.4</td>\n",
       "      <td>30.0</td>\n",
       "      <td>11.5200</td>\n",
       "      <td>4.0200</td>\n",
       "    </tr>\n",
       "    <tr>\n",
       "      <th>1</th>\n",
       "      <td>Bream</td>\n",
       "      <td>290.0</td>\n",
       "      <td>24.0</td>\n",
       "      <td>26.3</td>\n",
       "      <td>31.2</td>\n",
       "      <td>12.4800</td>\n",
       "      <td>4.3056</td>\n",
       "    </tr>\n",
       "    <tr>\n",
       "      <th>2</th>\n",
       "      <td>Bream</td>\n",
       "      <td>340.0</td>\n",
       "      <td>23.9</td>\n",
       "      <td>26.5</td>\n",
       "      <td>31.1</td>\n",
       "      <td>12.3778</td>\n",
       "      <td>4.6961</td>\n",
       "    </tr>\n",
       "    <tr>\n",
       "      <th>3</th>\n",
       "      <td>Bream</td>\n",
       "      <td>363.0</td>\n",
       "      <td>26.3</td>\n",
       "      <td>29.0</td>\n",
       "      <td>33.5</td>\n",
       "      <td>12.7300</td>\n",
       "      <td>4.4555</td>\n",
       "    </tr>\n",
       "    <tr>\n",
       "      <th>4</th>\n",
       "      <td>Bream</td>\n",
       "      <td>430.0</td>\n",
       "      <td>26.5</td>\n",
       "      <td>29.0</td>\n",
       "      <td>34.0</td>\n",
       "      <td>12.4440</td>\n",
       "      <td>5.1340</td>\n",
       "    </tr>\n",
       "    <tr>\n",
       "      <th>154</th>\n",
       "      <td>Smelt</td>\n",
       "      <td>12.2</td>\n",
       "      <td>11.5</td>\n",
       "      <td>12.2</td>\n",
       "      <td>13.4</td>\n",
       "      <td>2.0904</td>\n",
       "      <td>1.3936</td>\n",
       "    </tr>\n",
       "    <tr>\n",
       "      <th>155</th>\n",
       "      <td>Smelt</td>\n",
       "      <td>13.4</td>\n",
       "      <td>11.7</td>\n",
       "      <td>12.4</td>\n",
       "      <td>13.5</td>\n",
       "      <td>2.4300</td>\n",
       "      <td>1.2690</td>\n",
       "    </tr>\n",
       "    <tr>\n",
       "      <th>156</th>\n",
       "      <td>Smelt</td>\n",
       "      <td>12.2</td>\n",
       "      <td>12.1</td>\n",
       "      <td>13.0</td>\n",
       "      <td>13.8</td>\n",
       "      <td>2.2770</td>\n",
       "      <td>1.2558</td>\n",
       "    </tr>\n",
       "    <tr>\n",
       "      <th>157</th>\n",
       "      <td>Smelt</td>\n",
       "      <td>19.7</td>\n",
       "      <td>13.2</td>\n",
       "      <td>14.3</td>\n",
       "      <td>15.2</td>\n",
       "      <td>2.8728</td>\n",
       "      <td>2.0672</td>\n",
       "    </tr>\n",
       "    <tr>\n",
       "      <th>158</th>\n",
       "      <td>Smelt</td>\n",
       "      <td>19.9</td>\n",
       "      <td>13.8</td>\n",
       "      <td>15.0</td>\n",
       "      <td>16.2</td>\n",
       "      <td>2.9322</td>\n",
       "      <td>1.8792</td>\n",
       "    </tr>\n",
       "  </tbody>\n",
       "</table>\n",
       "</div>"
      ],
      "text/plain": [
       "    Species  Weight  Length1  Length2  Length3   Height   Width\n",
       "0     Bream   242.0     23.2     25.4     30.0  11.5200  4.0200\n",
       "1     Bream   290.0     24.0     26.3     31.2  12.4800  4.3056\n",
       "2     Bream   340.0     23.9     26.5     31.1  12.3778  4.6961\n",
       "3     Bream   363.0     26.3     29.0     33.5  12.7300  4.4555\n",
       "4     Bream   430.0     26.5     29.0     34.0  12.4440  5.1340\n",
       "154   Smelt    12.2     11.5     12.2     13.4   2.0904  1.3936\n",
       "155   Smelt    13.4     11.7     12.4     13.5   2.4300  1.2690\n",
       "156   Smelt    12.2     12.1     13.0     13.8   2.2770  1.2558\n",
       "157   Smelt    19.7     13.2     14.3     15.2   2.8728  2.0672\n",
       "158   Smelt    19.9     13.8     15.0     16.2   2.9322  1.8792"
      ]
     },
     "execution_count": 6,
     "metadata": {},
     "output_type": "execute_result"
    }
   ],
   "source": [
    "# Show 5 first observations and 5 last observations\n",
    "head_and_tail = [df.head(), df.tail()]\n",
    "pd.concat(head_and_tail)"
   ]
  },
  {
   "cell_type": "code",
   "execution_count": 7,
   "id": "53c33432",
   "metadata": {
    "scrolled": true
   },
   "outputs": [
    {
     "data": {
      "text/html": [
       "<div>\n",
       "<style scoped>\n",
       "    .dataframe tbody tr th:only-of-type {\n",
       "        vertical-align: middle;\n",
       "    }\n",
       "\n",
       "    .dataframe tbody tr th {\n",
       "        vertical-align: top;\n",
       "    }\n",
       "\n",
       "    .dataframe thead th {\n",
       "        text-align: right;\n",
       "    }\n",
       "</style>\n",
       "<table border=\"1\" class=\"dataframe\">\n",
       "  <thead>\n",
       "    <tr style=\"text-align: right;\">\n",
       "      <th></th>\n",
       "      <th>Weight</th>\n",
       "      <th>Length1</th>\n",
       "      <th>Length2</th>\n",
       "      <th>Length3</th>\n",
       "      <th>Height</th>\n",
       "      <th>Width</th>\n",
       "    </tr>\n",
       "  </thead>\n",
       "  <tbody>\n",
       "    <tr>\n",
       "      <th>count</th>\n",
       "      <td>159.000000</td>\n",
       "      <td>159.000000</td>\n",
       "      <td>159.000000</td>\n",
       "      <td>159.000000</td>\n",
       "      <td>159.000000</td>\n",
       "      <td>159.000000</td>\n",
       "    </tr>\n",
       "    <tr>\n",
       "      <th>mean</th>\n",
       "      <td>398.326415</td>\n",
       "      <td>26.247170</td>\n",
       "      <td>28.415723</td>\n",
       "      <td>31.227044</td>\n",
       "      <td>8.970994</td>\n",
       "      <td>4.417486</td>\n",
       "    </tr>\n",
       "    <tr>\n",
       "      <th>std</th>\n",
       "      <td>357.978317</td>\n",
       "      <td>9.996441</td>\n",
       "      <td>10.716328</td>\n",
       "      <td>11.610246</td>\n",
       "      <td>4.286208</td>\n",
       "      <td>1.685804</td>\n",
       "    </tr>\n",
       "    <tr>\n",
       "      <th>min</th>\n",
       "      <td>0.000000</td>\n",
       "      <td>7.500000</td>\n",
       "      <td>8.400000</td>\n",
       "      <td>8.800000</td>\n",
       "      <td>1.728400</td>\n",
       "      <td>1.047600</td>\n",
       "    </tr>\n",
       "    <tr>\n",
       "      <th>25%</th>\n",
       "      <td>120.000000</td>\n",
       "      <td>19.050000</td>\n",
       "      <td>21.000000</td>\n",
       "      <td>23.150000</td>\n",
       "      <td>5.944800</td>\n",
       "      <td>3.385650</td>\n",
       "    </tr>\n",
       "    <tr>\n",
       "      <th>50%</th>\n",
       "      <td>273.000000</td>\n",
       "      <td>25.200000</td>\n",
       "      <td>27.300000</td>\n",
       "      <td>29.400000</td>\n",
       "      <td>7.786000</td>\n",
       "      <td>4.248500</td>\n",
       "    </tr>\n",
       "    <tr>\n",
       "      <th>75%</th>\n",
       "      <td>650.000000</td>\n",
       "      <td>32.700000</td>\n",
       "      <td>35.500000</td>\n",
       "      <td>39.650000</td>\n",
       "      <td>12.365900</td>\n",
       "      <td>5.584500</td>\n",
       "    </tr>\n",
       "    <tr>\n",
       "      <th>max</th>\n",
       "      <td>1650.000000</td>\n",
       "      <td>59.000000</td>\n",
       "      <td>63.400000</td>\n",
       "      <td>68.000000</td>\n",
       "      <td>18.957000</td>\n",
       "      <td>8.142000</td>\n",
       "    </tr>\n",
       "  </tbody>\n",
       "</table>\n",
       "</div>"
      ],
      "text/plain": [
       "            Weight     Length1     Length2     Length3      Height       Width\n",
       "count   159.000000  159.000000  159.000000  159.000000  159.000000  159.000000\n",
       "mean    398.326415   26.247170   28.415723   31.227044    8.970994    4.417486\n",
       "std     357.978317    9.996441   10.716328   11.610246    4.286208    1.685804\n",
       "min       0.000000    7.500000    8.400000    8.800000    1.728400    1.047600\n",
       "25%     120.000000   19.050000   21.000000   23.150000    5.944800    3.385650\n",
       "50%     273.000000   25.200000   27.300000   29.400000    7.786000    4.248500\n",
       "75%     650.000000   32.700000   35.500000   39.650000   12.365900    5.584500\n",
       "max    1650.000000   59.000000   63.400000   68.000000   18.957000    8.142000"
      ]
     },
     "execution_count": 7,
     "metadata": {},
     "output_type": "execute_result"
    }
   ],
   "source": [
    "# ====== Data Summary =======\n",
    "df.describe()"
   ]
  },
  {
   "cell_type": "markdown",
   "id": "a4f8ad2d",
   "metadata": {},
   "source": [
    "There is a fish with zero weight. It is maybe incorrect data and should be removed.\n"
   ]
  },
  {
   "cell_type": "code",
   "execution_count": 8,
   "id": "040eef05",
   "metadata": {
    "scrolled": true
   },
   "outputs": [
    {
     "data": {
      "text/html": [
       "<div>\n",
       "<style scoped>\n",
       "    .dataframe tbody tr th:only-of-type {\n",
       "        vertical-align: middle;\n",
       "    }\n",
       "\n",
       "    .dataframe tbody tr th {\n",
       "        vertical-align: top;\n",
       "    }\n",
       "\n",
       "    .dataframe thead th {\n",
       "        text-align: right;\n",
       "    }\n",
       "</style>\n",
       "<table border=\"1\" class=\"dataframe\">\n",
       "  <thead>\n",
       "    <tr style=\"text-align: right;\">\n",
       "      <th></th>\n",
       "      <th>Species</th>\n",
       "      <th>Weight</th>\n",
       "      <th>Length1</th>\n",
       "      <th>Length2</th>\n",
       "      <th>Length3</th>\n",
       "      <th>Height</th>\n",
       "      <th>Width</th>\n",
       "    </tr>\n",
       "  </thead>\n",
       "  <tbody>\n",
       "    <tr>\n",
       "      <th>40</th>\n",
       "      <td>Roach</td>\n",
       "      <td>0.0</td>\n",
       "      <td>19.0</td>\n",
       "      <td>20.5</td>\n",
       "      <td>22.8</td>\n",
       "      <td>6.4752</td>\n",
       "      <td>3.3516</td>\n",
       "    </tr>\n",
       "  </tbody>\n",
       "</table>\n",
       "</div>"
      ],
      "text/plain": [
       "   Species  Weight  Length1  Length2  Length3  Height   Width\n",
       "40   Roach     0.0     19.0     20.5     22.8  6.4752  3.3516"
      ]
     },
     "execution_count": 8,
     "metadata": {},
     "output_type": "execute_result"
    }
   ],
   "source": [
    "df[df.Weight == 0]"
   ]
  },
  {
   "cell_type": "code",
   "execution_count": 9,
   "id": "edba7fa5",
   "metadata": {
    "scrolled": true
   },
   "outputs": [
    {
     "data": {
      "text/plain": [
       "(158, 7)"
      ]
     },
     "execution_count": 9,
     "metadata": {},
     "output_type": "execute_result"
    }
   ],
   "source": [
    "# ====== New dataframe without zero weight ====== \n",
    "\n",
    "df = df[df.Weight != 0]\n",
    "df.shape\n",
    "# So, there are 158 observations."
   ]
  },
  {
   "cell_type": "code",
   "execution_count": 10,
   "id": "403218ae",
   "metadata": {
    "scrolled": true
   },
   "outputs": [
    {
     "name": "stdout",
     "output_type": "stream",
     "text": [
      "Numbers of species: 7\n",
      "Species name: ['Bream' 'Roach' 'Whitefish' 'Parkki' 'Perch' 'Pike' 'Smelt']\n",
      "\n",
      "\n",
      "Count each species: \n",
      " Perch        56\n",
      "Bream        35\n",
      "Roach        19\n",
      "Pike         17\n",
      "Smelt        14\n",
      "Parkki       11\n",
      "Whitefish     6\n",
      "Name: Species, dtype: int64\n"
     ]
    }
   ],
   "source": [
    "# =====  How many species in the dataset ======\n",
    "\n",
    "print('Numbers of species:', df.Species.nunique())\n",
    "\n",
    "# ===== What are species name =======\n",
    "print('Species name:', df.Species.unique())\n",
    "\n",
    "# ===== Count each species =====\n",
    "\n",
    "print('\\n')\n",
    "print( 'Count each species: \\n',df['Species'].value_counts())"
   ]
  },
  {
   "cell_type": "code",
   "execution_count": 11,
   "id": "3ff65cf0",
   "metadata": {
    "scrolled": true
   },
   "outputs": [
    {
     "data": {
      "image/png": "[encoded data removed]",
      "text/plain": [
       "<Figure size 576x432 with 1 Axes>"
      ]
     },
     "metadata": {
      "needs_background": "light"
     },
     "output_type": "display_data"
    }
   ],
   "source": [
    "# ===== Visualize species count =====\n",
    "plt.figure(figsize=(8, 6))\n",
    "count_plot = sns.countplot(x = 'Species', data = df)\n",
    "for p in count_plot.patches:\n",
    "   count_plot.annotate('{:.1f}'.format(p.get_height()), (p.get_x()+0.25, p.get_height()+0.01))\n",
    "plt.title('Count of species', size = 20)\n",
    "plt.show()\n"
   ]
  },
  {
   "cell_type": "code",
   "execution_count": 12,
   "id": "e2739917",
   "metadata": {
    "scrolled": true
   },
   "outputs": [
    {
     "data": {
      "image/png": "[encoded data removed]",
      "text/plain": [
       "<Figure size 432x288 with 6 Axes>"
      ]
     },
     "metadata": {
      "needs_background": "light"
     },
     "output_type": "display_data"
    }
   ],
   "source": [
    "# =========== Histogram and Distribution of each characteristics ==========\n",
    "\n",
    "nrows = 2\n",
    "ncols = 3\n",
    "names = df.columns[1:]\n",
    "\n",
    "# Creating subplot axes\n",
    "\n",
    "fig, axes = plt.subplots(nrows,ncols)\n",
    "\n",
    "# Iterating through axes and names\n",
    "for name, ax in zip(names, axes.flatten()):\n",
    "    sns.histplot(data = df[name], ax = ax, kde = True)\n",
    "fig.suptitle('Histogram and Kernel Density Estimation')\n",
    "fig.tight_layout()\n",
    "plt.show()"
   ]
  },
  {
   "cell_type": "markdown",
   "id": "88100c1a",
   "metadata": {},
   "source": [
    "Visually, these characteristics are not normal distribution. Specially, 'length3' has 2 peaks, so it is bimodal distribution.\n",
    "The 'Weight' is a right-skewed distribution."
   ]
  },
  {
   "cell_type": "code",
   "execution_count": 13,
   "id": "669eb9f4",
   "metadata": {
    "scrolled": true
   },
   "outputs": [
    {
     "data": {
      "image/png": "[encoded data removed]",
      "text/plain": [
       "<Figure size 864x720 with 2 Axes>"
      ]
     },
     "metadata": {
      "needs_background": "light"
     },
     "output_type": "display_data"
    }
   ],
   "source": [
    "# =========== Covariance Matrix ===========\n",
    "# numeric_only = True\n",
    "corr = df.corr()\n",
    "\n",
    "plt.figure(figsize=(12, 10))\n",
    "\n",
    "sns.heatmap(corr[(corr >= 0.5) | (corr <= -0.4)], \n",
    "            cmap='plasma', vmax=1.0, vmin=-1.0, linewidths=0.1,\n",
    "            annot=True, annot_kws={\"size\": 8}, square=True);"
   ]
  },
  {
   "cell_type": "markdown",
   "id": "34993fee",
   "metadata": {},
   "source": [
    "These characteristics are highly positively correlated with a minimum correlation coefficient of 0.62 which is between 'Height' and 'Width'."
   ]
  },
  {
   "cell_type": "code",
   "execution_count": 14,
   "id": "b6f346d4",
   "metadata": {
    "scrolled": true
   },
   "outputs": [
    {
     "data": {
      "image/png": "[encoded data removed]",
      "text/plain": [
       "<Figure size 1163.25x1080 with 42 Axes>"
      ]
     },
     "metadata": {
      "needs_background": "light"
     },
     "output_type": "display_data"
    }
   ],
   "source": [
    "# =========== Pairplot ===========\n",
    "\n",
    "sns.pairplot(data = df, hue = 'Species', diag_kind = 'hist')\n",
    "plt.show()"
   ]
  },
  {
   "cell_type": "code",
   "execution_count": 15,
   "id": "83752dfe",
   "metadata": {
    "scrolled": true
   },
   "outputs": [],
   "source": [
    "# =========== Outlier Analysis ============\n",
    "\n",
    "# Boxplot for each characteristic of each species:\n",
    "\n",
    "b = []\n",
    "for i in range(len(df.Species.unique())):\n",
    "    b.append(df.loc[df['Species'] == df.Species.unique()[i]])   \n",
    "\n"
   ]
  },
  {
   "cell_type": "code",
   "execution_count": 16,
   "id": "6f07f9a7",
   "metadata": {
    "scrolled": true
   },
   "outputs": [
    {
     "data": {
      "image/png": "[encoded data removed]",
      "text/plain": [
       "<Figure size 432x288 with 1 Axes>"
      ]
     },
     "metadata": {
      "needs_background": "light"
     },
     "output_type": "display_data"
    },
    {
     "data": {
      "image/png": "[encoded data removed]",
      "text/plain": [
       "<Figure size 432x288 with 1 Axes>"
      ]
     },
     "metadata": {
      "needs_background": "light"
     },
     "output_type": "display_data"
    },
    {
     "data": {
      "image/png": "[encoded data removed]",
      "text/plain": [
       "<Figure size 432x288 with 1 Axes>"
      ]
     },
     "metadata": {
      "needs_background": "light"
     },
     "output_type": "display_data"
    },
    {
     "data": {
      "image/png": "[encoded data removed]",
      "text/plain": [
       "<Figure size 432x288 with 1 Axes>"
      ]
     },
     "metadata": {
      "needs_background": "light"
     },
     "output_type": "display_data"
    },
    {
     "data": {
      "image/png": "[encoded data removed]",
      "text/plain": [
       "<Figure size 432x288 with 1 Axes>"
      ]
     },
     "metadata": {
      "needs_background": "light"
     },
     "output_type": "display_data"
    },
    {
     "data": {
      "image/png": "[encoded data removed]",
      "text/plain": [
       "<Figure size 432x288 with 1 Axes>"
      ]
     },
     "metadata": {
      "needs_background": "light"
     },
     "output_type": "display_data"
    }
   ],
   "source": [
    "# ======== Bream ==============\n",
    "plt.title('Bream\\'s box plots', fontsize = 20)\n",
    "sns.boxplot(x = b[0].Weight)\n",
    "plt.show()\n",
    "sns.boxplot(x = b[0].Length1)\n",
    "plt.show()\n",
    "sns.boxplot(x = b[0].Length2)\n",
    "plt.show()\n",
    "sns.boxplot(x = b[0].Length3)\n",
    "plt.show()\n",
    "sns.boxplot(x = b[0].Height)\n",
    "plt.show()\n",
    "sns.boxplot(x = b[0].Width)\n",
    "plt.show()"
   ]
  },
  {
   "cell_type": "markdown",
   "id": "00accd2e",
   "metadata": {},
   "source": [
    "Visually, Length1'Bream has outlier in length1"
   ]
  },
  {
   "cell_type": "code",
   "execution_count": 17,
   "id": "b38e2dcb",
   "metadata": {},
   "outputs": [
    {
     "data": {
      "image/png": "[encoded data removed]",
      "text/plain": [
       "<Figure size 432x288 with 1 Axes>"
      ]
     },
     "metadata": {
      "needs_background": "light"
     },
     "output_type": "display_data"
    },
    {
     "data": {
      "image/png": "[encoded data removed]",
      "text/plain": [
       "<Figure size 432x288 with 1 Axes>"
      ]
     },
     "metadata": {
      "needs_background": "light"
     },
     "output_type": "display_data"
    },
    {
     "data": {
      "image/png": "[encoded data removed]",
      "text/plain": [
       "<Figure size 432x288 with 1 Axes>"
      ]
     },
     "metadata": {
      "needs_background": "light"
     },
     "output_type": "display_data"
    },
    {
     "data": {
      "image/png": "[encoded data removed]",
      "text/plain": [
       "<Figure size 432x288 with 1 Axes>"
      ]
     },
     "metadata": {
      "needs_background": "light"
     },
     "output_type": "display_data"
    },
    {
     "data": {
      "image/png": "[encoded data removed]",
      "text/plain": [
       "<Figure size 432x288 with 1 Axes>"
      ]
     },
     "metadata": {
      "needs_background": "light"
     },
     "output_type": "display_data"
    },
    {
     "data": {
      "image/png": "[encoded data removed]",
      "text/plain": [
       "<Figure size 432x288 with 1 Axes>"
      ]
     },
     "metadata": {
      "needs_background": "light"
     },
     "output_type": "display_data"
    }
   ],
   "source": [
    "# ========== Roach =================\n",
    "plt.title('Roach\\'s box plots', fontsize = 20)\n",
    "sns.boxplot(x = b[1].Weight)\n",
    "plt.show()\n",
    "sns.boxplot(x = b[1].Length1)\n",
    "plt.show()\n",
    "sns.boxplot(x = b[1].Length2)\n",
    "plt.show()\n",
    "sns.boxplot(x = b[1].Length3)\n",
    "plt.show()\n",
    "sns.boxplot(x = b[1].Height)\n",
    "plt.show()\n",
    "sns.boxplot(x = b[1].Width)\n",
    "plt.show()"
   ]
  },
  {
   "cell_type": "markdown",
   "id": "41303e6c",
   "metadata": {},
   "source": [
    "Visually, all characteristics of Roach have outliers"
   ]
  },
  {
   "cell_type": "code",
   "execution_count": 18,
   "id": "a7072681",
   "metadata": {},
   "outputs": [
    {
     "data": {
      "image/png": "[encoded data removed]",
      "text/plain": [
       "<Figure size 432x288 with 1 Axes>"
      ]
     },
     "metadata": {
      "needs_background": "light"
     },
     "output_type": "display_data"
    },
    {
     "data": {
      "image/png": "[encoded data removed]",
      "text/plain": [
       "<Figure size 432x288 with 1 Axes>"
      ]
     },
     "metadata": {
      "needs_background": "light"
     },
     "output_type": "display_data"
    },
    {
     "data": {
      "image/png": "[encoded data removed]",
      "text/plain": [
       "<Figure size 432x288 with 1 Axes>"
      ]
     },
     "metadata": {
      "needs_background": "light"
     },
     "output_type": "display_data"
    },
    {
     "data": {
      "image/png": "[encoded data removed]",
      "text/plain": [
       "<Figure size 432x288 with 1 Axes>"
      ]
     },
     "metadata": {
      "needs_background": "light"
     },
     "output_type": "display_data"
    },
    {
     "data": {
      "image/png": "[encoded data removed]",
      "text/plain": [
       "<Figure size 432x288 with 1 Axes>"
      ]
     },
     "metadata": {
      "needs_background": "light"
     },
     "output_type": "display_data"
    },
    {
     "data": {
      "image/png": "[encoded data removed]",
      "text/plain": [
       "<Figure size 432x288 with 1 Axes>"
      ]
     },
     "metadata": {
      "needs_background": "light"
     },
     "output_type": "display_data"
    }
   ],
   "source": [
    "# ========= Whitefish =============\n",
    "plt.title('Whitefish\\'s box plots', fontsize = 20)\n",
    "sns.boxplot(x = b[2].Weight)\n",
    "plt.show()\n",
    "sns.boxplot(x = b[2].Length1)\n",
    "plt.show()\n",
    "sns.boxplot(x = b[2].Length2)\n",
    "plt.show()\n",
    "sns.boxplot(x = b[2].Length3)\n",
    "plt.show()\n",
    "sns.boxplot(x = b[2].Height)\n",
    "plt.show()\n",
    "sns.boxplot(x = b[2].Width)\n",
    "plt.show()"
   ]
  },
  {
   "cell_type": "markdown",
   "id": "f3441c9a",
   "metadata": {},
   "source": [
    "Visually, Whitefish has no outlier."
   ]
  },
  {
   "cell_type": "code",
   "execution_count": 19,
   "id": "88fd6601",
   "metadata": {},
   "outputs": [
    {
     "data": {
      "image/png": "[encoded data removed]",
      "text/plain": [
       "<Figure size 432x288 with 1 Axes>"
      ]
     },
     "metadata": {
      "needs_background": "light"
     },
     "output_type": "display_data"
    },
    {
     "data": {
      "image/png": "[encoded data removed]",
      "text/plain": [
       "<Figure size 432x288 with 1 Axes>"
      ]
     },
     "metadata": {
      "needs_background": "light"
     },
     "output_type": "display_data"
    },
    {
     "data": {
      "image/png": "[encoded data removed]",
      "text/plain": [
       "<Figure size 432x288 with 1 Axes>"
      ]
     },
     "metadata": {
      "needs_background": "light"
     },
     "output_type": "display_data"
    },
    {
     "data": {
      "image/png": "[encoded data removed]",
      "text/plain": [
       "<Figure size 432x288 with 1 Axes>"
      ]
     },
     "metadata": {
      "needs_background": "light"
     },
     "output_type": "display_data"
    },
    {
     "data": {
      "image/png": "[encoded data removed]",
      "text/plain": [
       "<Figure size 432x288 with 1 Axes>"
      ]
     },
     "metadata": {
      "needs_background": "light"
     },
     "output_type": "display_data"
    },
    {
     "data": {
      "image/png": "[encoded data removed]",
      "text/plain": [
       "<Figure size 432x288 with 1 Axes>"
      ]
     },
     "metadata": {
      "needs_background": "light"
     },
     "output_type": "display_data"
    }
   ],
   "source": [
    "# ========= Parkki =============\n",
    "plt.title('Parkki\\'s box plots', fontsize = 20)\n",
    "sns.boxplot(x = b[3].Weight)\n",
    "plt.show()\n",
    "sns.boxplot(x = b[3].Length1)\n",
    "plt.show()\n",
    "sns.boxplot(x = b[3].Length2)\n",
    "plt.show()\n",
    "sns.boxplot(x = b[3].Length3)\n",
    "plt.show()\n",
    "sns.boxplot(x = b[3].Height)\n",
    "plt.show()\n",
    "sns.boxplot(x = b[3].Width)\n",
    "plt.show()"
   ]
  },
  {
   "cell_type": "markdown",
   "id": "fdb88917",
   "metadata": {},
   "source": [
    "Visually, Parkki has no outlier"
   ]
  },
  {
   "cell_type": "code",
   "execution_count": 20,
   "id": "61de9817",
   "metadata": {},
   "outputs": [
    {
     "data": {
      "image/png": "[encoded data removed]",
      "text/plain": [
       "<Figure size 432x288 with 1 Axes>"
      ]
     },
     "metadata": {
      "needs_background": "light"
     },
     "output_type": "display_data"
    },
    {
     "data": {
      "image/png": "[encoded data removed]",
      "text/plain": [
       "<Figure size 432x288 with 1 Axes>"
      ]
     },
     "metadata": {
      "needs_background": "light"
     },
     "output_type": "display_data"
    },
    {
     "data": {
      "image/png": "[encoded data removed]",
      "text/plain": [
       "<Figure size 432x288 with 1 Axes>"
      ]
     },
     "metadata": {
      "needs_background": "light"
     },
     "output_type": "display_data"
    },
    {
     "data": {
      "image/png": "[encoded data removed]",
      "text/plain": [
       "<Figure size 432x288 with 1 Axes>"
      ]
     },
     "metadata": {
      "needs_background": "light"
     },
     "output_type": "display_data"
    },
    {
     "data": {
      "image/png": "[encoded data removed]",
      "text/plain": [
       "<Figure size 432x288 with 1 Axes>"
      ]
     },
     "metadata": {
      "needs_background": "light"
     },
     "output_type": "display_data"
    },
    {
     "data": {
      "image/png": "[encoded data removed]",
      "text/plain": [
       "<Figure size 432x288 with 1 Axes>"
      ]
     },
     "metadata": {
      "needs_background": "light"
     },
     "output_type": "display_data"
    }
   ],
   "source": [
    "# ========== Perch ===========\n",
    "plt.title('Perch\\'s box plots', fontsize = 20)\n",
    "sns.boxplot(x = b[4].Weight)\n",
    "plt.show()\n",
    "sns.boxplot(x = b[4].Length1)\n",
    "plt.show()\n",
    "sns.boxplot(x = b[4].Length2)\n",
    "plt.show()\n",
    "sns.boxplot(x = b[4].Length3)\n",
    "plt.show()\n",
    "sns.boxplot(x = b[4].Height)\n",
    "plt.show()\n",
    "sns.boxplot(x = b[4].Width)\n",
    "plt.show()"
   ]
  },
  {
   "cell_type": "markdown",
   "id": "729b9982",
   "metadata": {},
   "source": [
    "Visually, Perch has no outlier"
   ]
  },
  {
   "cell_type": "code",
   "execution_count": 21,
   "id": "9fea3ae2",
   "metadata": {},
   "outputs": [
    {
     "data": {
      "image/png": "[encoded data removed]",
      "text/plain": [
       "<Figure size 432x288 with 1 Axes>"
      ]
     },
     "metadata": {
      "needs_background": "light"
     },
     "output_type": "display_data"
    },
    {
     "data": {
      "image/png": "[encoded data removed]",
      "text/plain": [
       "<Figure size 432x288 with 1 Axes>"
      ]
     },
     "metadata": {
      "needs_background": "light"
     },
     "output_type": "display_data"
    },
    {
     "data": {
      "image/png": "[encoded data removed]",
      "text/plain": [
       "<Figure size 432x288 with 1 Axes>"
      ]
     },
     "metadata": {
      "needs_background": "light"
     },
     "output_type": "display_data"
    },
    {
     "data": {
      "image/png": "[encoded data removed]",
      "text/plain": [
       "<Figure size 432x288 with 1 Axes>"
      ]
     },
     "metadata": {
      "needs_background": "light"
     },
     "output_type": "display_data"
    },
    {
     "data": {
      "image/png": "[encoded data removed]",
      "text/plain": [
       "<Figure size 432x288 with 1 Axes>"
      ]
     },
     "metadata": {
      "needs_background": "light"
     },
     "output_type": "display_data"
    },
    {
     "data": {
      "image/png": "[encoded data removed]",
      "text/plain": [
       "<Figure size 432x288 with 1 Axes>"
      ]
     },
     "metadata": {
      "needs_background": "light"
     },
     "output_type": "display_data"
    }
   ],
   "source": [
    "# ========== Pike ===========\n",
    "plt.title('Pike\\'s box plots', fontsize = 20)\n",
    "sns.boxplot(x = b[5].Weight)\n",
    "plt.show()\n",
    "sns.boxplot(x = b[5].Length1)\n",
    "plt.show()\n",
    "sns.boxplot(x = b[5].Length2)\n",
    "plt.show()\n",
    "sns.boxplot(x = b[5].Length3)\n",
    "plt.show()\n",
    "sns.boxplot(x = b[5].Height)\n",
    "plt.show()\n",
    "sns.boxplot(x = b[5].Width)\n",
    "plt.show()"
   ]
  },
  {
   "cell_type": "markdown",
   "id": "8f13b4a8",
   "metadata": {},
   "source": [
    "Visually, Pike has no outlier"
   ]
  },
  {
   "cell_type": "code",
   "execution_count": 22,
   "id": "f1261eb3",
   "metadata": {},
   "outputs": [
    {
     "data": {
      "image/png": "[encoded data removed]",
      "text/plain": [
       "<Figure size 432x288 with 1 Axes>"
      ]
     },
     "metadata": {
      "needs_background": "light"
     },
     "output_type": "display_data"
    },
    {
     "data": {
      "image/png": "[encoded data removed]",
      "text/plain": [
       "<Figure size 432x288 with 1 Axes>"
      ]
     },
     "metadata": {
      "needs_background": "light"
     },
     "output_type": "display_data"
    },
    {
     "data": {
      "image/png": "[encoded data removed]",
      "text/plain": [
       "<Figure size 432x288 with 1 Axes>"
      ]
     },
     "metadata": {
      "needs_background": "light"
     },
     "output_type": "display_data"
    },
    {
     "data": {
      "image/png": "[encoded data removed]",
      "text/plain": [
       "<Figure size 432x288 with 1 Axes>"
      ]
     },
     "metadata": {
      "needs_background": "light"
     },
     "output_type": "display_data"
    },
    {
     "data": {
      "image/png": "[encoded data removed]",
      "text/plain": [
       "<Figure size 432x288 with 1 Axes>"
      ]
     },
     "metadata": {
      "needs_background": "light"
     },
     "output_type": "display_data"
    },
    {
     "data": {
      "image/png": "[encoded data removed]",
      "text/plain": [
       "<Figure size 432x288 with 1 Axes>"
      ]
     },
     "metadata": {
      "needs_background": "light"
     },
     "output_type": "display_data"
    }
   ],
   "source": [
    "# ========== Smelt ===========\n",
    "plt.title('Smelt\\'s box plots', fontsize = 20)\n",
    "sns.boxplot(x = b[6].Weight)\n",
    "plt.show()\n",
    "sns.boxplot(x = b[6].Length1)\n",
    "plt.show()\n",
    "sns.boxplot(x = b[6].Length2)\n",
    "plt.show()\n",
    "sns.boxplot(x = b[6].Length3)\n",
    "plt.show()\n",
    "sns.boxplot(x = b[6].Height)\n",
    "plt.show()\n",
    "sns.boxplot(x = b[6].Width)\n",
    "plt.show()"
   ]
  },
  {
   "cell_type": "markdown",
   "id": "3924392e",
   "metadata": {},
   "source": [
    "Visually, Smelt has outliers in all characteristics.\n"
   ]
  },
  {
   "cell_type": "code",
   "execution_count": 23,
   "id": "f461ffca",
   "metadata": {
    "scrolled": true
   },
   "outputs": [],
   "source": [
    "# =========== Outlier Detection ===========\n",
    "# There are several ways to identify outliers. \n",
    "# In this analysis, I went with visualizing boxplots for the initial look which are shown above  \n",
    "# and the IQR approach which are widely accepted by many researchers.\n",
    "\n",
    "def outlier_detection(data):\n",
    "    outlier = []\n",
    "    Q1 = data.quantile(0.25)\n",
    "    Q3 = data.quantile(0.75)\n",
    "    IQR = Q3 - Q1\n",
    "    lower_limit = Q1 - 1.5*IQR\n",
    "    upper_limit = Q3 + 1.5*IQR\n",
    "    for i in data:\n",
    "        if i > upper_limit or i < lower_limit:\n",
    "            outlier.append(i)\n",
    "    if outlier == []: print('There is no outlier')\n",
    "    else:\n",
    "        print(f'There is/are {len(outlier)} outlier. They are {outlier}')\n",
    "        return outlier\n",
    "\n",
    "\n"
   ]
  },
  {
   "cell_type": "code",
   "execution_count": 24,
   "id": "dd9a16a2",
   "metadata": {
    "scrolled": true
   },
   "outputs": [
    {
     "name": "stdout",
     "output_type": "stream",
     "text": [
      "There is no outlier\n",
      "There is/are 1 outlier. They are [38.0]\n",
      "There is no outlier\n",
      "There is no outlier\n",
      "There is no outlier\n",
      "There is no outlier\n"
     ]
    },
    {
     "data": {
      "text/html": [
       "<div>\n",
       "<style scoped>\n",
       "    .dataframe tbody tr th:only-of-type {\n",
       "        vertical-align: middle;\n",
       "    }\n",
       "\n",
       "    .dataframe tbody tr th {\n",
       "        vertical-align: top;\n",
       "    }\n",
       "\n",
       "    .dataframe thead th {\n",
       "        text-align: right;\n",
       "    }\n",
       "</style>\n",
       "<table border=\"1\" class=\"dataframe\">\n",
       "  <thead>\n",
       "    <tr style=\"text-align: right;\">\n",
       "      <th></th>\n",
       "      <th>Species</th>\n",
       "      <th>Weight</th>\n",
       "      <th>Length1</th>\n",
       "      <th>Length2</th>\n",
       "      <th>Length3</th>\n",
       "      <th>Height</th>\n",
       "      <th>Width</th>\n",
       "    </tr>\n",
       "  </thead>\n",
       "  <tbody>\n",
       "    <tr>\n",
       "      <th>0</th>\n",
       "      <td>Bream</td>\n",
       "      <td>242.0</td>\n",
       "      <td>23.2</td>\n",
       "      <td>25.4</td>\n",
       "      <td>30.0</td>\n",
       "      <td>11.5200</td>\n",
       "      <td>4.0200</td>\n",
       "    </tr>\n",
       "    <tr>\n",
       "      <th>1</th>\n",
       "      <td>Bream</td>\n",
       "      <td>290.0</td>\n",
       "      <td>24.0</td>\n",
       "      <td>26.3</td>\n",
       "      <td>31.2</td>\n",
       "      <td>12.4800</td>\n",
       "      <td>4.3056</td>\n",
       "    </tr>\n",
       "    <tr>\n",
       "      <th>2</th>\n",
       "      <td>Bream</td>\n",
       "      <td>340.0</td>\n",
       "      <td>23.9</td>\n",
       "      <td>26.5</td>\n",
       "      <td>31.1</td>\n",
       "      <td>12.3778</td>\n",
       "      <td>4.6961</td>\n",
       "    </tr>\n",
       "    <tr>\n",
       "      <th>3</th>\n",
       "      <td>Bream</td>\n",
       "      <td>363.0</td>\n",
       "      <td>26.3</td>\n",
       "      <td>29.0</td>\n",
       "      <td>33.5</td>\n",
       "      <td>12.7300</td>\n",
       "      <td>4.4555</td>\n",
       "    </tr>\n",
       "    <tr>\n",
       "      <th>4</th>\n",
       "      <td>Bream</td>\n",
       "      <td>430.0</td>\n",
       "      <td>26.5</td>\n",
       "      <td>29.0</td>\n",
       "      <td>34.0</td>\n",
       "      <td>12.4440</td>\n",
       "      <td>5.1340</td>\n",
       "    </tr>\n",
       "    <tr>\n",
       "      <th>5</th>\n",
       "      <td>Bream</td>\n",
       "      <td>450.0</td>\n",
       "      <td>26.8</td>\n",
       "      <td>29.7</td>\n",
       "      <td>34.7</td>\n",
       "      <td>13.6024</td>\n",
       "      <td>4.9274</td>\n",
       "    </tr>\n",
       "    <tr>\n",
       "      <th>6</th>\n",
       "      <td>Bream</td>\n",
       "      <td>500.0</td>\n",
       "      <td>26.8</td>\n",
       "      <td>29.7</td>\n",
       "      <td>34.5</td>\n",
       "      <td>14.1795</td>\n",
       "      <td>5.2785</td>\n",
       "    </tr>\n",
       "    <tr>\n",
       "      <th>7</th>\n",
       "      <td>Bream</td>\n",
       "      <td>390.0</td>\n",
       "      <td>27.6</td>\n",
       "      <td>30.0</td>\n",
       "      <td>35.0</td>\n",
       "      <td>12.6700</td>\n",
       "      <td>4.6900</td>\n",
       "    </tr>\n",
       "    <tr>\n",
       "      <th>8</th>\n",
       "      <td>Bream</td>\n",
       "      <td>450.0</td>\n",
       "      <td>27.6</td>\n",
       "      <td>30.0</td>\n",
       "      <td>35.1</td>\n",
       "      <td>14.0049</td>\n",
       "      <td>4.8438</td>\n",
       "    </tr>\n",
       "    <tr>\n",
       "      <th>9</th>\n",
       "      <td>Bream</td>\n",
       "      <td>500.0</td>\n",
       "      <td>28.5</td>\n",
       "      <td>30.7</td>\n",
       "      <td>36.2</td>\n",
       "      <td>14.2266</td>\n",
       "      <td>4.9594</td>\n",
       "    </tr>\n",
       "    <tr>\n",
       "      <th>10</th>\n",
       "      <td>Bream</td>\n",
       "      <td>475.0</td>\n",
       "      <td>28.4</td>\n",
       "      <td>31.0</td>\n",
       "      <td>36.2</td>\n",
       "      <td>14.2628</td>\n",
       "      <td>5.1042</td>\n",
       "    </tr>\n",
       "    <tr>\n",
       "      <th>11</th>\n",
       "      <td>Bream</td>\n",
       "      <td>500.0</td>\n",
       "      <td>28.7</td>\n",
       "      <td>31.0</td>\n",
       "      <td>36.2</td>\n",
       "      <td>14.3714</td>\n",
       "      <td>4.8146</td>\n",
       "    </tr>\n",
       "    <tr>\n",
       "      <th>12</th>\n",
       "      <td>Bream</td>\n",
       "      <td>500.0</td>\n",
       "      <td>29.1</td>\n",
       "      <td>31.5</td>\n",
       "      <td>36.4</td>\n",
       "      <td>13.7592</td>\n",
       "      <td>4.3680</td>\n",
       "    </tr>\n",
       "    <tr>\n",
       "      <th>13</th>\n",
       "      <td>Bream</td>\n",
       "      <td>340.0</td>\n",
       "      <td>29.5</td>\n",
       "      <td>32.0</td>\n",
       "      <td>37.3</td>\n",
       "      <td>13.9129</td>\n",
       "      <td>5.0728</td>\n",
       "    </tr>\n",
       "    <tr>\n",
       "      <th>14</th>\n",
       "      <td>Bream</td>\n",
       "      <td>600.0</td>\n",
       "      <td>29.4</td>\n",
       "      <td>32.0</td>\n",
       "      <td>37.2</td>\n",
       "      <td>14.9544</td>\n",
       "      <td>5.1708</td>\n",
       "    </tr>\n",
       "    <tr>\n",
       "      <th>15</th>\n",
       "      <td>Bream</td>\n",
       "      <td>600.0</td>\n",
       "      <td>29.4</td>\n",
       "      <td>32.0</td>\n",
       "      <td>37.2</td>\n",
       "      <td>15.4380</td>\n",
       "      <td>5.5800</td>\n",
       "    </tr>\n",
       "    <tr>\n",
       "      <th>16</th>\n",
       "      <td>Bream</td>\n",
       "      <td>700.0</td>\n",
       "      <td>30.4</td>\n",
       "      <td>33.0</td>\n",
       "      <td>38.3</td>\n",
       "      <td>14.8604</td>\n",
       "      <td>5.2854</td>\n",
       "    </tr>\n",
       "    <tr>\n",
       "      <th>17</th>\n",
       "      <td>Bream</td>\n",
       "      <td>700.0</td>\n",
       "      <td>30.4</td>\n",
       "      <td>33.0</td>\n",
       "      <td>38.5</td>\n",
       "      <td>14.9380</td>\n",
       "      <td>5.1975</td>\n",
       "    </tr>\n",
       "    <tr>\n",
       "      <th>18</th>\n",
       "      <td>Bream</td>\n",
       "      <td>610.0</td>\n",
       "      <td>30.9</td>\n",
       "      <td>33.5</td>\n",
       "      <td>38.6</td>\n",
       "      <td>15.6330</td>\n",
       "      <td>5.1338</td>\n",
       "    </tr>\n",
       "    <tr>\n",
       "      <th>19</th>\n",
       "      <td>Bream</td>\n",
       "      <td>650.0</td>\n",
       "      <td>31.0</td>\n",
       "      <td>33.5</td>\n",
       "      <td>38.7</td>\n",
       "      <td>14.4738</td>\n",
       "      <td>5.7276</td>\n",
       "    </tr>\n",
       "    <tr>\n",
       "      <th>20</th>\n",
       "      <td>Bream</td>\n",
       "      <td>575.0</td>\n",
       "      <td>31.3</td>\n",
       "      <td>34.0</td>\n",
       "      <td>39.5</td>\n",
       "      <td>15.1285</td>\n",
       "      <td>5.5695</td>\n",
       "    </tr>\n",
       "    <tr>\n",
       "      <th>21</th>\n",
       "      <td>Bream</td>\n",
       "      <td>685.0</td>\n",
       "      <td>31.4</td>\n",
       "      <td>34.0</td>\n",
       "      <td>39.2</td>\n",
       "      <td>15.9936</td>\n",
       "      <td>5.3704</td>\n",
       "    </tr>\n",
       "    <tr>\n",
       "      <th>22</th>\n",
       "      <td>Bream</td>\n",
       "      <td>620.0</td>\n",
       "      <td>31.5</td>\n",
       "      <td>34.5</td>\n",
       "      <td>39.7</td>\n",
       "      <td>15.5227</td>\n",
       "      <td>5.2801</td>\n",
       "    </tr>\n",
       "    <tr>\n",
       "      <th>23</th>\n",
       "      <td>Bream</td>\n",
       "      <td>680.0</td>\n",
       "      <td>31.8</td>\n",
       "      <td>35.0</td>\n",
       "      <td>40.6</td>\n",
       "      <td>15.4686</td>\n",
       "      <td>6.1306</td>\n",
       "    </tr>\n",
       "    <tr>\n",
       "      <th>24</th>\n",
       "      <td>Bream</td>\n",
       "      <td>700.0</td>\n",
       "      <td>31.9</td>\n",
       "      <td>35.0</td>\n",
       "      <td>40.5</td>\n",
       "      <td>16.2405</td>\n",
       "      <td>5.5890</td>\n",
       "    </tr>\n",
       "    <tr>\n",
       "      <th>25</th>\n",
       "      <td>Bream</td>\n",
       "      <td>725.0</td>\n",
       "      <td>31.8</td>\n",
       "      <td>35.0</td>\n",
       "      <td>40.9</td>\n",
       "      <td>16.3600</td>\n",
       "      <td>6.0532</td>\n",
       "    </tr>\n",
       "    <tr>\n",
       "      <th>26</th>\n",
       "      <td>Bream</td>\n",
       "      <td>720.0</td>\n",
       "      <td>32.0</td>\n",
       "      <td>35.0</td>\n",
       "      <td>40.6</td>\n",
       "      <td>16.3618</td>\n",
       "      <td>6.0900</td>\n",
       "    </tr>\n",
       "    <tr>\n",
       "      <th>27</th>\n",
       "      <td>Bream</td>\n",
       "      <td>714.0</td>\n",
       "      <td>32.7</td>\n",
       "      <td>36.0</td>\n",
       "      <td>41.5</td>\n",
       "      <td>16.5170</td>\n",
       "      <td>5.8515</td>\n",
       "    </tr>\n",
       "    <tr>\n",
       "      <th>28</th>\n",
       "      <td>Bream</td>\n",
       "      <td>850.0</td>\n",
       "      <td>32.8</td>\n",
       "      <td>36.0</td>\n",
       "      <td>41.6</td>\n",
       "      <td>16.8896</td>\n",
       "      <td>6.1984</td>\n",
       "    </tr>\n",
       "    <tr>\n",
       "      <th>29</th>\n",
       "      <td>Bream</td>\n",
       "      <td>1000.0</td>\n",
       "      <td>33.5</td>\n",
       "      <td>37.0</td>\n",
       "      <td>42.6</td>\n",
       "      <td>18.9570</td>\n",
       "      <td>6.6030</td>\n",
       "    </tr>\n",
       "    <tr>\n",
       "      <th>30</th>\n",
       "      <td>Bream</td>\n",
       "      <td>920.0</td>\n",
       "      <td>35.0</td>\n",
       "      <td>38.5</td>\n",
       "      <td>44.1</td>\n",
       "      <td>18.0369</td>\n",
       "      <td>6.3063</td>\n",
       "    </tr>\n",
       "    <tr>\n",
       "      <th>31</th>\n",
       "      <td>Bream</td>\n",
       "      <td>955.0</td>\n",
       "      <td>35.0</td>\n",
       "      <td>38.5</td>\n",
       "      <td>44.0</td>\n",
       "      <td>18.0840</td>\n",
       "      <td>6.2920</td>\n",
       "    </tr>\n",
       "    <tr>\n",
       "      <th>32</th>\n",
       "      <td>Bream</td>\n",
       "      <td>925.0</td>\n",
       "      <td>36.2</td>\n",
       "      <td>39.5</td>\n",
       "      <td>45.3</td>\n",
       "      <td>18.7542</td>\n",
       "      <td>6.7497</td>\n",
       "    </tr>\n",
       "    <tr>\n",
       "      <th>33</th>\n",
       "      <td>Bream</td>\n",
       "      <td>975.0</td>\n",
       "      <td>37.4</td>\n",
       "      <td>41.0</td>\n",
       "      <td>45.9</td>\n",
       "      <td>18.6354</td>\n",
       "      <td>6.7473</td>\n",
       "    </tr>\n",
       "  </tbody>\n",
       "</table>\n",
       "</div>"
      ],
      "text/plain": [
       "   Species  Weight  Length1  Length2  Length3   Height   Width\n",
       "0    Bream   242.0     23.2     25.4     30.0  11.5200  4.0200\n",
       "1    Bream   290.0     24.0     26.3     31.2  12.4800  4.3056\n",
       "2    Bream   340.0     23.9     26.5     31.1  12.3778  4.6961\n",
       "3    Bream   363.0     26.3     29.0     33.5  12.7300  4.4555\n",
       "4    Bream   430.0     26.5     29.0     34.0  12.4440  5.1340\n",
       "5    Bream   450.0     26.8     29.7     34.7  13.6024  4.9274\n",
       "6    Bream   500.0     26.8     29.7     34.5  14.1795  5.2785\n",
       "7    Bream   390.0     27.6     30.0     35.0  12.6700  4.6900\n",
       "8    Bream   450.0     27.6     30.0     35.1  14.0049  4.8438\n",
       "9    Bream   500.0     28.5     30.7     36.2  14.2266  4.9594\n",
       "10   Bream   475.0     28.4     31.0     36.2  14.2628  5.1042\n",
       "11   Bream   500.0     28.7     31.0     36.2  14.3714  4.8146\n",
       "12   Bream   500.0     29.1     31.5     36.4  13.7592  4.3680\n",
       "13   Bream   340.0     29.5     32.0     37.3  13.9129  5.0728\n",
       "14   Bream   600.0     29.4     32.0     37.2  14.9544  5.1708\n",
       "15   Bream   600.0     29.4     32.0     37.2  15.4380  5.5800\n",
       "16   Bream   700.0     30.4     33.0     38.3  14.8604  5.2854\n",
       "17   Bream   700.0     30.4     33.0     38.5  14.9380  5.1975\n",
       "18   Bream   610.0     30.9     33.5     38.6  15.6330  5.1338\n",
       "19   Bream   650.0     31.0     33.5     38.7  14.4738  5.7276\n",
       "20   Bream   575.0     31.3     34.0     39.5  15.1285  5.5695\n",
       "21   Bream   685.0     31.4     34.0     39.2  15.9936  5.3704\n",
       "22   Bream   620.0     31.5     34.5     39.7  15.5227  5.2801\n",
       "23   Bream   680.0     31.8     35.0     40.6  15.4686  6.1306\n",
       "24   Bream   700.0     31.9     35.0     40.5  16.2405  5.5890\n",
       "25   Bream   725.0     31.8     35.0     40.9  16.3600  6.0532\n",
       "26   Bream   720.0     32.0     35.0     40.6  16.3618  6.0900\n",
       "27   Bream   714.0     32.7     36.0     41.5  16.5170  5.8515\n",
       "28   Bream   850.0     32.8     36.0     41.6  16.8896  6.1984\n",
       "29   Bream  1000.0     33.5     37.0     42.6  18.9570  6.6030\n",
       "30   Bream   920.0     35.0     38.5     44.1  18.0369  6.3063\n",
       "31   Bream   955.0     35.0     38.5     44.0  18.0840  6.2920\n",
       "32   Bream   925.0     36.2     39.5     45.3  18.7542  6.7497\n",
       "33   Bream   975.0     37.4     41.0     45.9  18.6354  6.7473"
      ]
     },
     "execution_count": 24,
     "metadata": {},
     "output_type": "execute_result"
    }
   ],
   "source": [
    "# =========== Bream ==========\n",
    "df_Bream = df[df.Species == 'Bream']\n",
    "# ===== Weight =====\n",
    "\n",
    "outlier_detection(df_Bream.Weight)\n",
    "\n",
    "### result: There is no outlier in Bream's weight\n",
    "\n",
    "# ====== Length1 =====\n",
    "outlier_detection(df_Bream.Length1)\n",
    "### result: Bream has weight of 38 is outlier\n",
    "\n",
    "\n",
    "# ====== Length2 =====\n",
    "outlier_detection(df_Bream.Length2)\n",
    "### result: There is no outlier in Bream's length2\n",
    "\n",
    "# ====== Length3 =====\n",
    "outlier_detection(df_Bream.Length3)\n",
    "### result: There is no outlier in Bream's length3\n",
    "\n",
    "# ====== Height ======\n",
    "outlier_detection(df_Bream.Height)\n",
    "### result: There is no outlier in Bream's Height\n",
    "\n",
    "# ====== Width ======\n",
    "outlier_detection(df_Bream.Width)\n",
    "### result: There is no outlier in Bream's Width\n",
    "\n",
    "### solution: remove the observation has species of Bream and Length1 = 38\n",
    "\n",
    "df_Bream = df_Bream[df_Bream.Length1 < 38]\n",
    "\n",
    "df_Bream"
   ]
  },
  {
   "cell_type": "code",
   "execution_count": 25,
   "id": "df372252",
   "metadata": {
    "scrolled": true
   },
   "outputs": [
    {
     "name": "stdout",
     "output_type": "stream",
     "text": [
      "There is/are 3 outlier. They are [290.0, 272.0, 390.0]\n",
      "There is/are 2 outlier. They are [12.9, 29.5]\n",
      "There is/are 2 outlier. They are [14.1, 31.7]\n",
      "There is/are 1 outlier. They are [35.0]\n",
      "There is/are 1 outlier. They are [9.485]\n",
      "There is/are 3 outlier. They are [2.268, 4.7736, 5.355]\n"
     ]
    },
    {
     "data": {
      "text/html": [
       "<div>\n",
       "<style scoped>\n",
       "    .dataframe tbody tr th:only-of-type {\n",
       "        vertical-align: middle;\n",
       "    }\n",
       "\n",
       "    .dataframe tbody tr th {\n",
       "        vertical-align: top;\n",
       "    }\n",
       "\n",
       "    .dataframe thead th {\n",
       "        text-align: right;\n",
       "    }\n",
       "</style>\n",
       "<table border=\"1\" class=\"dataframe\">\n",
       "  <thead>\n",
       "    <tr style=\"text-align: right;\">\n",
       "      <th></th>\n",
       "      <th>Species</th>\n",
       "      <th>Weight</th>\n",
       "      <th>Length1</th>\n",
       "      <th>Length2</th>\n",
       "      <th>Length3</th>\n",
       "      <th>Height</th>\n",
       "      <th>Width</th>\n",
       "    </tr>\n",
       "  </thead>\n",
       "  <tbody>\n",
       "    <tr>\n",
       "      <th>36</th>\n",
       "      <td>Roach</td>\n",
       "      <td>69.0</td>\n",
       "      <td>16.5</td>\n",
       "      <td>18.2</td>\n",
       "      <td>20.3</td>\n",
       "      <td>5.2983</td>\n",
       "      <td>2.8217</td>\n",
       "    </tr>\n",
       "    <tr>\n",
       "      <th>37</th>\n",
       "      <td>Roach</td>\n",
       "      <td>78.0</td>\n",
       "      <td>17.5</td>\n",
       "      <td>18.8</td>\n",
       "      <td>21.2</td>\n",
       "      <td>5.5756</td>\n",
       "      <td>2.9044</td>\n",
       "    </tr>\n",
       "    <tr>\n",
       "      <th>38</th>\n",
       "      <td>Roach</td>\n",
       "      <td>87.0</td>\n",
       "      <td>18.2</td>\n",
       "      <td>19.8</td>\n",
       "      <td>22.2</td>\n",
       "      <td>5.6166</td>\n",
       "      <td>3.1746</td>\n",
       "    </tr>\n",
       "    <tr>\n",
       "      <th>39</th>\n",
       "      <td>Roach</td>\n",
       "      <td>120.0</td>\n",
       "      <td>18.6</td>\n",
       "      <td>20.0</td>\n",
       "      <td>22.2</td>\n",
       "      <td>6.2160</td>\n",
       "      <td>3.5742</td>\n",
       "    </tr>\n",
       "    <tr>\n",
       "      <th>41</th>\n",
       "      <td>Roach</td>\n",
       "      <td>110.0</td>\n",
       "      <td>19.1</td>\n",
       "      <td>20.8</td>\n",
       "      <td>23.1</td>\n",
       "      <td>6.1677</td>\n",
       "      <td>3.3957</td>\n",
       "    </tr>\n",
       "    <tr>\n",
       "      <th>42</th>\n",
       "      <td>Roach</td>\n",
       "      <td>120.0</td>\n",
       "      <td>19.4</td>\n",
       "      <td>21.0</td>\n",
       "      <td>23.7</td>\n",
       "      <td>6.1146</td>\n",
       "      <td>3.2943</td>\n",
       "    </tr>\n",
       "    <tr>\n",
       "      <th>43</th>\n",
       "      <td>Roach</td>\n",
       "      <td>150.0</td>\n",
       "      <td>20.4</td>\n",
       "      <td>22.0</td>\n",
       "      <td>24.7</td>\n",
       "      <td>5.8045</td>\n",
       "      <td>3.7544</td>\n",
       "    </tr>\n",
       "    <tr>\n",
       "      <th>44</th>\n",
       "      <td>Roach</td>\n",
       "      <td>145.0</td>\n",
       "      <td>20.5</td>\n",
       "      <td>22.0</td>\n",
       "      <td>24.3</td>\n",
       "      <td>6.6339</td>\n",
       "      <td>3.5478</td>\n",
       "    </tr>\n",
       "    <tr>\n",
       "      <th>45</th>\n",
       "      <td>Roach</td>\n",
       "      <td>160.0</td>\n",
       "      <td>20.5</td>\n",
       "      <td>22.5</td>\n",
       "      <td>25.3</td>\n",
       "      <td>7.0334</td>\n",
       "      <td>3.8203</td>\n",
       "    </tr>\n",
       "    <tr>\n",
       "      <th>46</th>\n",
       "      <td>Roach</td>\n",
       "      <td>140.0</td>\n",
       "      <td>21.0</td>\n",
       "      <td>22.5</td>\n",
       "      <td>25.0</td>\n",
       "      <td>6.5500</td>\n",
       "      <td>3.3250</td>\n",
       "    </tr>\n",
       "    <tr>\n",
       "      <th>47</th>\n",
       "      <td>Roach</td>\n",
       "      <td>160.0</td>\n",
       "      <td>21.1</td>\n",
       "      <td>22.5</td>\n",
       "      <td>25.0</td>\n",
       "      <td>6.4000</td>\n",
       "      <td>3.8000</td>\n",
       "    </tr>\n",
       "    <tr>\n",
       "      <th>48</th>\n",
       "      <td>Roach</td>\n",
       "      <td>169.0</td>\n",
       "      <td>22.0</td>\n",
       "      <td>24.0</td>\n",
       "      <td>27.2</td>\n",
       "      <td>7.5344</td>\n",
       "      <td>3.8352</td>\n",
       "    </tr>\n",
       "    <tr>\n",
       "      <th>49</th>\n",
       "      <td>Roach</td>\n",
       "      <td>161.0</td>\n",
       "      <td>22.0</td>\n",
       "      <td>23.4</td>\n",
       "      <td>26.7</td>\n",
       "      <td>6.9153</td>\n",
       "      <td>3.6312</td>\n",
       "    </tr>\n",
       "    <tr>\n",
       "      <th>50</th>\n",
       "      <td>Roach</td>\n",
       "      <td>200.0</td>\n",
       "      <td>22.1</td>\n",
       "      <td>23.5</td>\n",
       "      <td>26.8</td>\n",
       "      <td>7.3968</td>\n",
       "      <td>4.1272</td>\n",
       "    </tr>\n",
       "    <tr>\n",
       "      <th>51</th>\n",
       "      <td>Roach</td>\n",
       "      <td>180.0</td>\n",
       "      <td>23.6</td>\n",
       "      <td>25.2</td>\n",
       "      <td>27.9</td>\n",
       "      <td>7.0866</td>\n",
       "      <td>3.9060</td>\n",
       "    </tr>\n",
       "  </tbody>\n",
       "</table>\n",
       "</div>"
      ],
      "text/plain": [
       "   Species  Weight  Length1  Length2  Length3  Height   Width\n",
       "36   Roach    69.0     16.5     18.2     20.3  5.2983  2.8217\n",
       "37   Roach    78.0     17.5     18.8     21.2  5.5756  2.9044\n",
       "38   Roach    87.0     18.2     19.8     22.2  5.6166  3.1746\n",
       "39   Roach   120.0     18.6     20.0     22.2  6.2160  3.5742\n",
       "41   Roach   110.0     19.1     20.8     23.1  6.1677  3.3957\n",
       "42   Roach   120.0     19.4     21.0     23.7  6.1146  3.2943\n",
       "43   Roach   150.0     20.4     22.0     24.7  5.8045  3.7544\n",
       "44   Roach   145.0     20.5     22.0     24.3  6.6339  3.5478\n",
       "45   Roach   160.0     20.5     22.5     25.3  7.0334  3.8203\n",
       "46   Roach   140.0     21.0     22.5     25.0  6.5500  3.3250\n",
       "47   Roach   160.0     21.1     22.5     25.0  6.4000  3.8000\n",
       "48   Roach   169.0     22.0     24.0     27.2  7.5344  3.8352\n",
       "49   Roach   161.0     22.0     23.4     26.7  6.9153  3.6312\n",
       "50   Roach   200.0     22.1     23.5     26.8  7.3968  4.1272\n",
       "51   Roach   180.0     23.6     25.2     27.9  7.0866  3.9060"
      ]
     },
     "execution_count": 25,
     "metadata": {},
     "output_type": "execute_result"
    }
   ],
   "source": [
    "# =========== Roach ==========\n",
    "df_Roach = df[df.Species == 'Roach']\n",
    "# ===== Weight =====\n",
    "\n",
    "outlier_detection(df_Roach.Weight)\n",
    "\n",
    "### result: There are 3 outliers in Roach's weight of [290, 272, 390]\n",
    "\n",
    "# ====== Length1 =====\n",
    "outlier_detection(df_Roach.Length1)\n",
    "### result: There are 2 outliers in Roach's Length1 of [12.9, 29.5]\n",
    "\n",
    "\n",
    "# ====== Length2 =====\n",
    "outlier_detection(df_Roach.Length2)\n",
    "### result: There are 2 outliers in Roach's length2 [14.1, 31.7]\n",
    "\n",
    "# ====== Length3 =====\n",
    "outlier_detection(df_Roach.Length3)\n",
    "### result: There is 1 outlier in Roach's length3 [35.0]\n",
    "\n",
    "# ====== Height ======\n",
    "outlier_detection(df_Roach.Height)\n",
    "### result: There is 1 outlier in Roach's Height [9.485]\n",
    "\n",
    "# ====== Width ======\n",
    "outlier_detection(df_Roach.Width)\n",
    "### result: There are outliers in Roach's Width [2.268, 4.7736, 5.355]\n",
    "\n",
    "### Solution: Remove all outliers \n",
    "\n",
    "df_Roach = df_Roach[~df_Roach['Weight'].isin([290.0, 272.0, 390.0])]\n",
    "df_Roach = df_Roach[~df_Roach['Length1'].isin([12.9, 29.5])]\n",
    "df_Roach = df_Roach[~df_Roach['Length2'].isin([14.1, 31.7])]\n",
    "df_Roach = df_Roach[~df_Roach['Length3'].isin([35.0])]\n",
    "df_Roach = df_Roach[~df_Roach['Height'].isin([9.485])]\n",
    "df_Roach = df_Roach[~df_Roach['Width'].isin([2.268, 4.7736, 5.35])]\n",
    "\n",
    "df_Roach"
   ]
  },
  {
   "cell_type": "code",
   "execution_count": 26,
   "id": "a3cece9d",
   "metadata": {
    "scrolled": true
   },
   "outputs": [
    {
     "name": "stdout",
     "output_type": "stream",
     "text": [
      "There is no outlier\n",
      "There is no outlier\n",
      "There is no outlier\n",
      "There is no outlier\n",
      "There is no outlier\n",
      "There is no outlier\n"
     ]
    }
   ],
   "source": [
    "# =========== Whitefish ==========\n",
    "df_Whitefish = df[df.Species == 'Whitefish']\n",
    "# ===== Weight =====\n",
    "\n",
    "outlier_detection(df_Whitefish.Weight)\n",
    "\n",
    "# ====== Length1 =====\n",
    "outlier_detection(df_Whitefish.Length1)\n",
    "\n",
    "# ====== Length2 =====\n",
    "outlier_detection(df_Whitefish.Length2)\n",
    "\n",
    "# ====== Length3 =====\n",
    "outlier_detection(df_Whitefish.Length3)\n",
    "\n",
    "# ====== Height ======\n",
    "outlier_detection(df_Whitefish.Height)\n",
    "\n",
    "# ====== Width ======\n",
    "outlier_detection(df_Whitefish.Width)\n",
    "### result: There is no outlier"
   ]
  },
  {
   "cell_type": "code",
   "execution_count": 27,
   "id": "fbf99660",
   "metadata": {
    "scrolled": true
   },
   "outputs": [
    {
     "name": "stdout",
     "output_type": "stream",
     "text": [
      "There is no outlier\n",
      "There is no outlier\n",
      "There is no outlier\n",
      "There is no outlier\n",
      "There is no outlier\n",
      "There is no outlier\n"
     ]
    }
   ],
   "source": [
    "# =========== Parkki ==========\n",
    "df_Parkki = df[df.Species == 'Parkki']\n",
    "# ===== Weight =====\n",
    "\n",
    "outlier_detection(df_Parkki.Weight)\n",
    "\n",
    "# ====== Length1 =====\n",
    "outlier_detection(df_Parkki.Length1)\n",
    "\n",
    "# ====== Length2 =====\n",
    "outlier_detection(df_Parkki.Length2)\n",
    "\n",
    "# ====== Length3 =====\n",
    "outlier_detection(df_Parkki.Length3)\n",
    "\n",
    "# ====== Height ======\n",
    "outlier_detection(df_Parkki.Height)\n",
    "\n",
    "# ====== Width ======\n",
    "outlier_detection(df_Parkki.Width)\n",
    "### result: There is no outlier"
   ]
  },
  {
   "cell_type": "code",
   "execution_count": 28,
   "id": "53cda502",
   "metadata": {
    "scrolled": true
   },
   "outputs": [
    {
     "name": "stdout",
     "output_type": "stream",
     "text": [
      "There is no outlier\n",
      "There is no outlier\n",
      "There is no outlier\n",
      "There is no outlier\n",
      "There is no outlier\n",
      "There is no outlier\n"
     ]
    }
   ],
   "source": [
    "# =========== Perch ==========\n",
    "df_Perch = df[df.Species == 'Perch']\n",
    "# ===== Weight =====\n",
    "\n",
    "outlier_detection(df_Perch.Weight)\n",
    "\n",
    "# ====== Length1 =====\n",
    "outlier_detection(df_Perch.Length1)\n",
    "\n",
    "# ====== Length2 =====\n",
    "outlier_detection(df_Perch.Length2)\n",
    "\n",
    "# ====== Length3 =====\n",
    "outlier_detection(df_Perch.Length3)\n",
    "\n",
    "# ====== Height ======\n",
    "outlier_detection(df_Perch.Height)\n",
    "\n",
    "# ====== Width ======\n",
    "outlier_detection(df_Perch.Width)\n",
    "### result: There is no outlier"
   ]
  },
  {
   "cell_type": "code",
   "execution_count": 29,
   "id": "a28b8326",
   "metadata": {
    "scrolled": true
   },
   "outputs": [
    {
     "name": "stdout",
     "output_type": "stream",
     "text": [
      "There is no outlier\n",
      "There is no outlier\n",
      "There is no outlier\n",
      "There is no outlier\n",
      "There is no outlier\n",
      "There is no outlier\n"
     ]
    }
   ],
   "source": [
    "# =========== Pike ==========\n",
    "df_Pike = df[df.Species == 'Pike']\n",
    "# ===== Weight =====\n",
    "\n",
    "outlier_detection(df_Pike.Weight)\n",
    "\n",
    "# ====== Length1 =====\n",
    "outlier_detection(df_Pike.Length1)\n",
    "\n",
    "# ====== Length2 =====\n",
    "outlier_detection(df_Pike.Length2)\n",
    "\n",
    "# ====== Length3 =====\n",
    "outlier_detection(df_Pike.Length3)\n",
    "\n",
    "# ====== Height ======\n",
    "outlier_detection(df_Pike.Height)\n",
    "\n",
    "# ====== Width ======\n",
    "outlier_detection(df_Pike.Width)\n",
    "### result: There is no outlier"
   ]
  },
  {
   "cell_type": "code",
   "execution_count": 30,
   "id": "adcb348d",
   "metadata": {
    "scrolled": true
   },
   "outputs": [
    {
     "name": "stdout",
     "output_type": "stream",
     "text": [
      "There is/are 2 outlier. They are [19.7, 19.9]\n",
      "There is/are 1 outlier. They are [13.8]\n",
      "There is/are 2 outlier. They are [14.3, 15.0]\n",
      "There is/are 1 outlier. They are [16.2]\n",
      "There is/are 2 outlier. They are [2.8728, 2.9322]\n",
      "There is/are 2 outlier. They are [2.0672, 1.8792]\n"
     ]
    },
    {
     "data": {
      "text/html": [
       "<div>\n",
       "<style scoped>\n",
       "    .dataframe tbody tr th:only-of-type {\n",
       "        vertical-align: middle;\n",
       "    }\n",
       "\n",
       "    .dataframe tbody tr th {\n",
       "        vertical-align: top;\n",
       "    }\n",
       "\n",
       "    .dataframe thead th {\n",
       "        text-align: right;\n",
       "    }\n",
       "</style>\n",
       "<table border=\"1\" class=\"dataframe\">\n",
       "  <thead>\n",
       "    <tr style=\"text-align: right;\">\n",
       "      <th></th>\n",
       "      <th>Species</th>\n",
       "      <th>Weight</th>\n",
       "      <th>Length1</th>\n",
       "      <th>Length2</th>\n",
       "      <th>Length3</th>\n",
       "      <th>Height</th>\n",
       "      <th>Width</th>\n",
       "    </tr>\n",
       "  </thead>\n",
       "  <tbody>\n",
       "    <tr>\n",
       "      <th>145</th>\n",
       "      <td>Smelt</td>\n",
       "      <td>6.7</td>\n",
       "      <td>9.3</td>\n",
       "      <td>9.8</td>\n",
       "      <td>10.8</td>\n",
       "      <td>1.7388</td>\n",
       "      <td>1.0476</td>\n",
       "    </tr>\n",
       "    <tr>\n",
       "      <th>146</th>\n",
       "      <td>Smelt</td>\n",
       "      <td>7.5</td>\n",
       "      <td>10.0</td>\n",
       "      <td>10.5</td>\n",
       "      <td>11.6</td>\n",
       "      <td>1.9720</td>\n",
       "      <td>1.1600</td>\n",
       "    </tr>\n",
       "    <tr>\n",
       "      <th>147</th>\n",
       "      <td>Smelt</td>\n",
       "      <td>7.0</td>\n",
       "      <td>10.1</td>\n",
       "      <td>10.6</td>\n",
       "      <td>11.6</td>\n",
       "      <td>1.7284</td>\n",
       "      <td>1.1484</td>\n",
       "    </tr>\n",
       "    <tr>\n",
       "      <th>148</th>\n",
       "      <td>Smelt</td>\n",
       "      <td>9.7</td>\n",
       "      <td>10.4</td>\n",
       "      <td>11.0</td>\n",
       "      <td>12.0</td>\n",
       "      <td>2.1960</td>\n",
       "      <td>1.3800</td>\n",
       "    </tr>\n",
       "    <tr>\n",
       "      <th>149</th>\n",
       "      <td>Smelt</td>\n",
       "      <td>9.8</td>\n",
       "      <td>10.7</td>\n",
       "      <td>11.2</td>\n",
       "      <td>12.4</td>\n",
       "      <td>2.0832</td>\n",
       "      <td>1.2772</td>\n",
       "    </tr>\n",
       "    <tr>\n",
       "      <th>150</th>\n",
       "      <td>Smelt</td>\n",
       "      <td>8.7</td>\n",
       "      <td>10.8</td>\n",
       "      <td>11.3</td>\n",
       "      <td>12.6</td>\n",
       "      <td>1.9782</td>\n",
       "      <td>1.2852</td>\n",
       "    </tr>\n",
       "    <tr>\n",
       "      <th>151</th>\n",
       "      <td>Smelt</td>\n",
       "      <td>10.0</td>\n",
       "      <td>11.3</td>\n",
       "      <td>11.8</td>\n",
       "      <td>13.1</td>\n",
       "      <td>2.2139</td>\n",
       "      <td>1.2838</td>\n",
       "    </tr>\n",
       "    <tr>\n",
       "      <th>152</th>\n",
       "      <td>Smelt</td>\n",
       "      <td>9.9</td>\n",
       "      <td>11.3</td>\n",
       "      <td>11.8</td>\n",
       "      <td>13.1</td>\n",
       "      <td>2.2139</td>\n",
       "      <td>1.1659</td>\n",
       "    </tr>\n",
       "    <tr>\n",
       "      <th>153</th>\n",
       "      <td>Smelt</td>\n",
       "      <td>9.8</td>\n",
       "      <td>11.4</td>\n",
       "      <td>12.0</td>\n",
       "      <td>13.2</td>\n",
       "      <td>2.2044</td>\n",
       "      <td>1.1484</td>\n",
       "    </tr>\n",
       "    <tr>\n",
       "      <th>154</th>\n",
       "      <td>Smelt</td>\n",
       "      <td>12.2</td>\n",
       "      <td>11.5</td>\n",
       "      <td>12.2</td>\n",
       "      <td>13.4</td>\n",
       "      <td>2.0904</td>\n",
       "      <td>1.3936</td>\n",
       "    </tr>\n",
       "    <tr>\n",
       "      <th>155</th>\n",
       "      <td>Smelt</td>\n",
       "      <td>13.4</td>\n",
       "      <td>11.7</td>\n",
       "      <td>12.4</td>\n",
       "      <td>13.5</td>\n",
       "      <td>2.4300</td>\n",
       "      <td>1.2690</td>\n",
       "    </tr>\n",
       "    <tr>\n",
       "      <th>156</th>\n",
       "      <td>Smelt</td>\n",
       "      <td>12.2</td>\n",
       "      <td>12.1</td>\n",
       "      <td>13.0</td>\n",
       "      <td>13.8</td>\n",
       "      <td>2.2770</td>\n",
       "      <td>1.2558</td>\n",
       "    </tr>\n",
       "  </tbody>\n",
       "</table>\n",
       "</div>"
      ],
      "text/plain": [
       "    Species  Weight  Length1  Length2  Length3  Height   Width\n",
       "145   Smelt     6.7      9.3      9.8     10.8  1.7388  1.0476\n",
       "146   Smelt     7.5     10.0     10.5     11.6  1.9720  1.1600\n",
       "147   Smelt     7.0     10.1     10.6     11.6  1.7284  1.1484\n",
       "148   Smelt     9.7     10.4     11.0     12.0  2.1960  1.3800\n",
       "149   Smelt     9.8     10.7     11.2     12.4  2.0832  1.2772\n",
       "150   Smelt     8.7     10.8     11.3     12.6  1.9782  1.2852\n",
       "151   Smelt    10.0     11.3     11.8     13.1  2.2139  1.2838\n",
       "152   Smelt     9.9     11.3     11.8     13.1  2.2139  1.1659\n",
       "153   Smelt     9.8     11.4     12.0     13.2  2.2044  1.1484\n",
       "154   Smelt    12.2     11.5     12.2     13.4  2.0904  1.3936\n",
       "155   Smelt    13.4     11.7     12.4     13.5  2.4300  1.2690\n",
       "156   Smelt    12.2     12.1     13.0     13.8  2.2770  1.2558"
      ]
     },
     "execution_count": 30,
     "metadata": {},
     "output_type": "execute_result"
    }
   ],
   "source": [
    "# =========== Smelt ==========\n",
    "df_Smelt = df[df.Species == 'Smelt']\n",
    "# ===== Weight =====\n",
    "\n",
    "outlier_detection(df_Smelt.Weight)\n",
    "### result: There are 2 outliers in Smelt's weight of [19.7, 19.9]\n",
    "\n",
    "# ====== Length1 =====\n",
    "outlier_detection(df_Smelt.Length1)\n",
    "### result: There is 1 outlier in Smelt's Length1 of [13.8]\n",
    "\n",
    "# ====== Length2 =====\n",
    "outlier_detection(df_Smelt.Length2)\n",
    "### result: There are 2 outliers in Smelt's Length2 of [14.3, 15.0]\n",
    "\n",
    "# ====== Length3 =====\n",
    "outlier_detection(df_Smelt.Length3)\n",
    "### result: There are 1 outliers in Smelt's Length3 of [16.2]\n",
    "\n",
    "# ====== Height ======\n",
    "outlier_detection(df_Smelt.Height)\n",
    "### result: There are 2 outliers in Smelt's Height of [2.8728, 2.9322]\n",
    "\n",
    "# ====== Width ======\n",
    "outlier_detection(df_Smelt.Width)\n",
    "### result: There are 2 outliers in Smelt's Width of [2.0672, 1.8792]\n",
    "\n",
    "### Solution: Remove all outliers\n",
    "\n",
    "df_Smelt = df_Smelt[~df_Smelt['Weight'].isin([19.7, 19.9])]\n",
    "df_Smelt = df_Smelt[~df_Smelt['Length1'].isin([13.8])]\n",
    "df_Smelt = df_Smelt[~df_Smelt['Length2'].isin([14.3, 15.0])]\n",
    "df_Smelt = df_Smelt[~df_Smelt['Length3'].isin([16.2])]\n",
    "df_Smelt = df_Smelt[~df_Smelt['Height'].isin([2.8728, 2.9322])]\n",
    "df_Smelt = df_Smelt[~df_Smelt['Width'].isin([2.0672, 1.8792])]\n",
    "\n",
    "df_Smelt"
   ]
  },
  {
   "cell_type": "code",
   "execution_count": 31,
   "id": "d42eb952",
   "metadata": {
    "scrolled": true
   },
   "outputs": [
    {
     "data": {
      "image/png": "[encoded data removed]",
      "text/plain": [
       "<Figure size 432x288 with 1 Axes>"
      ]
     },
     "metadata": {
      "needs_background": "light"
     },
     "output_type": "display_data"
    }
   ],
   "source": [
    "# Draw boxplot after removing outliers\n",
    "\n",
    "# Only draw Bream's length1 ,Roach and Smelt \n",
    "\n",
    "# ======= Bream's length1 ======\n",
    "\n",
    "sns.boxplot( x= df_Bream.Length1)\n",
    "plt.show()\n"
   ]
  },
  {
   "cell_type": "code",
   "execution_count": 32,
   "id": "f69c9ecc",
   "metadata": {
    "scrolled": false
   },
   "outputs": [
    {
     "data": {
      "image/png": "[encoded data removed]",
      "text/plain": [
       "<Figure size 432x288 with 1 Axes>"
      ]
     },
     "metadata": {
      "needs_background": "light"
     },
     "output_type": "display_data"
    },
    {
     "data": {
      "image/png": "[encoded data removed]",
      "text/plain": [
       "<Figure size 432x288 with 1 Axes>"
      ]
     },
     "metadata": {
      "needs_background": "light"
     },
     "output_type": "display_data"
    },
    {
     "data": {
      "image/png": "[encoded data removed]",
      "text/plain": [
       "<Figure size 432x288 with 1 Axes>"
      ]
     },
     "metadata": {
      "needs_background": "light"
     },
     "output_type": "display_data"
    },
    {
     "data": {
      "image/png": "[encoded data removed]",
      "text/plain": [
       "<Figure size 432x288 with 1 Axes>"
      ]
     },
     "metadata": {
      "needs_background": "light"
     },
     "output_type": "display_data"
    },
    {
     "data": {
      "image/png": "[encoded data removed]",
      "text/plain": [
       "<Figure size 432x288 with 1 Axes>"
      ]
     },
     "metadata": {
      "needs_background": "light"
     },
     "output_type": "display_data"
    },
    {
     "data": {
      "image/png": "[encoded data removed]",
      "text/plain": [
       "<Figure size 432x288 with 1 Axes>"
      ]
     },
     "metadata": {
      "needs_background": "light"
     },
     "output_type": "display_data"
    }
   ],
   "source": [
    "# ======== Roach ==========\n",
    "sns.boxplot( x = df_Roach.Weight)\n",
    "plt.show()\n",
    "sns.boxplot( x = df_Roach.Length1)\n",
    "plt.show()\n",
    "sns.boxplot( x = df_Roach.Length2)\n",
    "plt.show()\n",
    "sns.boxplot( x = df_Roach.Length3)\n",
    "plt.show()\n",
    "sns.boxplot( x = df_Roach.Height)\n",
    "plt.show()\n",
    "sns.boxplot( x = df_Roach.Width)\n",
    "plt.show()\n"
   ]
  },
  {
   "cell_type": "code",
   "execution_count": 33,
   "id": "bc466494",
   "metadata": {
    "scrolled": true
   },
   "outputs": [
    {
     "data": {
      "image/png": "[encoded data removed]",
      "text/plain": [
       "<Figure size 432x288 with 1 Axes>"
      ]
     },
     "metadata": {
      "needs_background": "light"
     },
     "output_type": "display_data"
    },
    {
     "data": {
      "image/png": "[encoded data removed]",
      "text/plain": [
       "<Figure size 432x288 with 1 Axes>"
      ]
     },
     "metadata": {
      "needs_background": "light"
     },
     "output_type": "display_data"
    },
    {
     "data": {
      "image/png": "[encoded data removed]",
      "text/plain": [
       "<Figure size 432x288 with 1 Axes>"
      ]
     },
     "metadata": {
      "needs_background": "light"
     },
     "output_type": "display_data"
    },
    {
     "data": {
      "image/png": "[encoded data removed]",
      "text/plain": [
       "<Figure size 432x288 with 1 Axes>"
      ]
     },
     "metadata": {
      "needs_background": "light"
     },
     "output_type": "display_data"
    },
    {
     "data": {
      "image/png": "[encoded data removed]",
      "text/plain": [
       "<Figure size 432x288 with 1 Axes>"
      ]
     },
     "metadata": {
      "needs_background": "light"
     },
     "output_type": "display_data"
    },
    {
     "data": {
      "image/png": "[encoded data removed]",
      "text/plain": [
       "<Figure size 432x288 with 1 Axes>"
      ]
     },
     "metadata": {
      "needs_background": "light"
     },
     "output_type": "display_data"
    }
   ],
   "source": [
    "# ======== Smelt ==========\n",
    "sns.boxplot( x = df_Smelt.Weight)\n",
    "plt.show()\n",
    "sns.boxplot( x = df_Smelt.Length1)\n",
    "plt.show()\n",
    "sns.boxplot( x = df_Smelt.Length2)\n",
    "plt.show()\n",
    "sns.boxplot( x = df_Smelt.Length3)\n",
    "plt.show()\n",
    "sns.boxplot( x = df_Smelt.Height)\n",
    "plt.show()\n",
    "sns.boxplot( x = df_Smelt.Width)\n",
    "plt.show()"
   ]
  },
  {
   "cell_type": "markdown",
   "id": "86e404d6",
   "metadata": {},
   "source": [
    "## Data Preparation <a name=\"Preparation\"></a>"
   ]
  },
  {
   "cell_type": "markdown",
   "id": "601b5464",
   "metadata": {},
   "source": [
    "All outliers are removed from the dataset. Now we concate all dataframes after we handled the outliers."
   ]
  },
  {
   "cell_type": "code",
   "execution_count": 34,
   "id": "ecc5bba7",
   "metadata": {
    "scrolled": true
   },
   "outputs": [
    {
     "data": {
      "text/html": [
       "<div>\n",
       "<style scoped>\n",
       "    .dataframe tbody tr th:only-of-type {\n",
       "        vertical-align: middle;\n",
       "    }\n",
       "\n",
       "    .dataframe tbody tr th {\n",
       "        vertical-align: top;\n",
       "    }\n",
       "\n",
       "    .dataframe thead th {\n",
       "        text-align: right;\n",
       "    }\n",
       "</style>\n",
       "<table border=\"1\" class=\"dataframe\">\n",
       "  <thead>\n",
       "    <tr style=\"text-align: right;\">\n",
       "      <th></th>\n",
       "      <th>Species</th>\n",
       "      <th>Weight</th>\n",
       "      <th>Length1</th>\n",
       "      <th>Length2</th>\n",
       "      <th>Length3</th>\n",
       "      <th>Height</th>\n",
       "      <th>Width</th>\n",
       "    </tr>\n",
       "  </thead>\n",
       "  <tbody>\n",
       "    <tr>\n",
       "      <th>0</th>\n",
       "      <td>Bream</td>\n",
       "      <td>242.0</td>\n",
       "      <td>23.2</td>\n",
       "      <td>25.4</td>\n",
       "      <td>30.0</td>\n",
       "      <td>11.5200</td>\n",
       "      <td>4.0200</td>\n",
       "    </tr>\n",
       "    <tr>\n",
       "      <th>1</th>\n",
       "      <td>Bream</td>\n",
       "      <td>290.0</td>\n",
       "      <td>24.0</td>\n",
       "      <td>26.3</td>\n",
       "      <td>31.2</td>\n",
       "      <td>12.4800</td>\n",
       "      <td>4.3056</td>\n",
       "    </tr>\n",
       "    <tr>\n",
       "      <th>2</th>\n",
       "      <td>Bream</td>\n",
       "      <td>340.0</td>\n",
       "      <td>23.9</td>\n",
       "      <td>26.5</td>\n",
       "      <td>31.1</td>\n",
       "      <td>12.3778</td>\n",
       "      <td>4.6961</td>\n",
       "    </tr>\n",
       "    <tr>\n",
       "      <th>3</th>\n",
       "      <td>Bream</td>\n",
       "      <td>363.0</td>\n",
       "      <td>26.3</td>\n",
       "      <td>29.0</td>\n",
       "      <td>33.5</td>\n",
       "      <td>12.7300</td>\n",
       "      <td>4.4555</td>\n",
       "    </tr>\n",
       "    <tr>\n",
       "      <th>4</th>\n",
       "      <td>Bream</td>\n",
       "      <td>430.0</td>\n",
       "      <td>26.5</td>\n",
       "      <td>29.0</td>\n",
       "      <td>34.0</td>\n",
       "      <td>12.4440</td>\n",
       "      <td>5.1340</td>\n",
       "    </tr>\n",
       "    <tr>\n",
       "      <th>...</th>\n",
       "      <td>...</td>\n",
       "      <td>...</td>\n",
       "      <td>...</td>\n",
       "      <td>...</td>\n",
       "      <td>...</td>\n",
       "      <td>...</td>\n",
       "      <td>...</td>\n",
       "    </tr>\n",
       "    <tr>\n",
       "      <th>146</th>\n",
       "      <td>Smelt</td>\n",
       "      <td>9.9</td>\n",
       "      <td>11.3</td>\n",
       "      <td>11.8</td>\n",
       "      <td>13.1</td>\n",
       "      <td>2.2139</td>\n",
       "      <td>1.1659</td>\n",
       "    </tr>\n",
       "    <tr>\n",
       "      <th>147</th>\n",
       "      <td>Smelt</td>\n",
       "      <td>9.8</td>\n",
       "      <td>11.4</td>\n",
       "      <td>12.0</td>\n",
       "      <td>13.2</td>\n",
       "      <td>2.2044</td>\n",
       "      <td>1.1484</td>\n",
       "    </tr>\n",
       "    <tr>\n",
       "      <th>148</th>\n",
       "      <td>Smelt</td>\n",
       "      <td>12.2</td>\n",
       "      <td>11.5</td>\n",
       "      <td>12.2</td>\n",
       "      <td>13.4</td>\n",
       "      <td>2.0904</td>\n",
       "      <td>1.3936</td>\n",
       "    </tr>\n",
       "    <tr>\n",
       "      <th>149</th>\n",
       "      <td>Smelt</td>\n",
       "      <td>13.4</td>\n",
       "      <td>11.7</td>\n",
       "      <td>12.4</td>\n",
       "      <td>13.5</td>\n",
       "      <td>2.4300</td>\n",
       "      <td>1.2690</td>\n",
       "    </tr>\n",
       "    <tr>\n",
       "      <th>150</th>\n",
       "      <td>Smelt</td>\n",
       "      <td>12.2</td>\n",
       "      <td>12.1</td>\n",
       "      <td>13.0</td>\n",
       "      <td>13.8</td>\n",
       "      <td>2.2770</td>\n",
       "      <td>1.2558</td>\n",
       "    </tr>\n",
       "  </tbody>\n",
       "</table>\n",
       "<p>151 rows × 7 columns</p>\n",
       "</div>"
      ],
      "text/plain": [
       "    Species  Weight  Length1  Length2  Length3   Height   Width\n",
       "0     Bream   242.0     23.2     25.4     30.0  11.5200  4.0200\n",
       "1     Bream   290.0     24.0     26.3     31.2  12.4800  4.3056\n",
       "2     Bream   340.0     23.9     26.5     31.1  12.3778  4.6961\n",
       "3     Bream   363.0     26.3     29.0     33.5  12.7300  4.4555\n",
       "4     Bream   430.0     26.5     29.0     34.0  12.4440  5.1340\n",
       "..      ...     ...      ...      ...      ...      ...     ...\n",
       "146   Smelt     9.9     11.3     11.8     13.1   2.2139  1.1659\n",
       "147   Smelt     9.8     11.4     12.0     13.2   2.2044  1.1484\n",
       "148   Smelt    12.2     11.5     12.2     13.4   2.0904  1.3936\n",
       "149   Smelt    13.4     11.7     12.4     13.5   2.4300  1.2690\n",
       "150   Smelt    12.2     12.1     13.0     13.8   2.2770  1.2558\n",
       "\n",
       "[151 rows x 7 columns]"
      ]
     },
     "execution_count": 34,
     "metadata": {},
     "output_type": "execute_result"
    }
   ],
   "source": [
    "df = pd.concat([df_Bream, df_Roach, df_Whitefish, df_Parkki, df_Perch, df_Pike, df_Smelt], ignore_index = True)\n",
    "\n",
    "df"
   ]
  },
  {
   "cell_type": "markdown",
   "id": "4260f334",
   "metadata": {},
   "source": [
    "After removing outliers, this dataset contains 151 records."
   ]
  },
  {
   "cell_type": "markdown",
   "id": "5bd5d1e7",
   "metadata": {},
   "source": [
    "Species is categorical. So I create dummies variables for further analysis."
   ]
  },
  {
   "cell_type": "code",
   "execution_count": 35,
   "id": "bc23aa08",
   "metadata": {
    "scrolled": true
   },
   "outputs": [
    {
     "data": {
      "text/html": [
       "<div>\n",
       "<style scoped>\n",
       "    .dataframe tbody tr th:only-of-type {\n",
       "        vertical-align: middle;\n",
       "    }\n",
       "\n",
       "    .dataframe tbody tr th {\n",
       "        vertical-align: top;\n",
       "    }\n",
       "\n",
       "    .dataframe thead th {\n",
       "        text-align: right;\n",
       "    }\n",
       "</style>\n",
       "<table border=\"1\" class=\"dataframe\">\n",
       "  <thead>\n",
       "    <tr style=\"text-align: right;\">\n",
       "      <th></th>\n",
       "      <th>Weight</th>\n",
       "      <th>Length1</th>\n",
       "      <th>Length2</th>\n",
       "      <th>Length3</th>\n",
       "      <th>Height</th>\n",
       "      <th>Width</th>\n",
       "      <th>Species_Parkki</th>\n",
       "      <th>Species_Perch</th>\n",
       "      <th>Species_Pike</th>\n",
       "      <th>Species_Roach</th>\n",
       "      <th>Species_Smelt</th>\n",
       "      <th>Species_Whitefish</th>\n",
       "    </tr>\n",
       "  </thead>\n",
       "  <tbody>\n",
       "    <tr>\n",
       "      <th>0</th>\n",
       "      <td>242.0</td>\n",
       "      <td>23.2</td>\n",
       "      <td>25.4</td>\n",
       "      <td>30.0</td>\n",
       "      <td>11.5200</td>\n",
       "      <td>4.0200</td>\n",
       "      <td>0</td>\n",
       "      <td>0</td>\n",
       "      <td>0</td>\n",
       "      <td>0</td>\n",
       "      <td>0</td>\n",
       "      <td>0</td>\n",
       "    </tr>\n",
       "    <tr>\n",
       "      <th>1</th>\n",
       "      <td>290.0</td>\n",
       "      <td>24.0</td>\n",
       "      <td>26.3</td>\n",
       "      <td>31.2</td>\n",
       "      <td>12.4800</td>\n",
       "      <td>4.3056</td>\n",
       "      <td>0</td>\n",
       "      <td>0</td>\n",
       "      <td>0</td>\n",
       "      <td>0</td>\n",
       "      <td>0</td>\n",
       "      <td>0</td>\n",
       "    </tr>\n",
       "    <tr>\n",
       "      <th>2</th>\n",
       "      <td>340.0</td>\n",
       "      <td>23.9</td>\n",
       "      <td>26.5</td>\n",
       "      <td>31.1</td>\n",
       "      <td>12.3778</td>\n",
       "      <td>4.6961</td>\n",
       "      <td>0</td>\n",
       "      <td>0</td>\n",
       "      <td>0</td>\n",
       "      <td>0</td>\n",
       "      <td>0</td>\n",
       "      <td>0</td>\n",
       "    </tr>\n",
       "    <tr>\n",
       "      <th>3</th>\n",
       "      <td>363.0</td>\n",
       "      <td>26.3</td>\n",
       "      <td>29.0</td>\n",
       "      <td>33.5</td>\n",
       "      <td>12.7300</td>\n",
       "      <td>4.4555</td>\n",
       "      <td>0</td>\n",
       "      <td>0</td>\n",
       "      <td>0</td>\n",
       "      <td>0</td>\n",
       "      <td>0</td>\n",
       "      <td>0</td>\n",
       "    </tr>\n",
       "    <tr>\n",
       "      <th>4</th>\n",
       "      <td>430.0</td>\n",
       "      <td>26.5</td>\n",
       "      <td>29.0</td>\n",
       "      <td>34.0</td>\n",
       "      <td>12.4440</td>\n",
       "      <td>5.1340</td>\n",
       "      <td>0</td>\n",
       "      <td>0</td>\n",
       "      <td>0</td>\n",
       "      <td>0</td>\n",
       "      <td>0</td>\n",
       "      <td>0</td>\n",
       "    </tr>\n",
       "    <tr>\n",
       "      <th>...</th>\n",
       "      <td>...</td>\n",
       "      <td>...</td>\n",
       "      <td>...</td>\n",
       "      <td>...</td>\n",
       "      <td>...</td>\n",
       "      <td>...</td>\n",
       "      <td>...</td>\n",
       "      <td>...</td>\n",
       "      <td>...</td>\n",
       "      <td>...</td>\n",
       "      <td>...</td>\n",
       "      <td>...</td>\n",
       "    </tr>\n",
       "    <tr>\n",
       "      <th>146</th>\n",
       "      <td>9.9</td>\n",
       "      <td>11.3</td>\n",
       "      <td>11.8</td>\n",
       "      <td>13.1</td>\n",
       "      <td>2.2139</td>\n",
       "      <td>1.1659</td>\n",
       "      <td>0</td>\n",
       "      <td>0</td>\n",
       "      <td>0</td>\n",
       "      <td>0</td>\n",
       "      <td>1</td>\n",
       "      <td>0</td>\n",
       "    </tr>\n",
       "    <tr>\n",
       "      <th>147</th>\n",
       "      <td>9.8</td>\n",
       "      <td>11.4</td>\n",
       "      <td>12.0</td>\n",
       "      <td>13.2</td>\n",
       "      <td>2.2044</td>\n",
       "      <td>1.1484</td>\n",
       "      <td>0</td>\n",
       "      <td>0</td>\n",
       "      <td>0</td>\n",
       "      <td>0</td>\n",
       "      <td>1</td>\n",
       "      <td>0</td>\n",
       "    </tr>\n",
       "    <tr>\n",
       "      <th>148</th>\n",
       "      <td>12.2</td>\n",
       "      <td>11.5</td>\n",
       "      <td>12.2</td>\n",
       "      <td>13.4</td>\n",
       "      <td>2.0904</td>\n",
       "      <td>1.3936</td>\n",
       "      <td>0</td>\n",
       "      <td>0</td>\n",
       "      <td>0</td>\n",
       "      <td>0</td>\n",
       "      <td>1</td>\n",
       "      <td>0</td>\n",
       "    </tr>\n",
       "    <tr>\n",
       "      <th>149</th>\n",
       "      <td>13.4</td>\n",
       "      <td>11.7</td>\n",
       "      <td>12.4</td>\n",
       "      <td>13.5</td>\n",
       "      <td>2.4300</td>\n",
       "      <td>1.2690</td>\n",
       "      <td>0</td>\n",
       "      <td>0</td>\n",
       "      <td>0</td>\n",
       "      <td>0</td>\n",
       "      <td>1</td>\n",
       "      <td>0</td>\n",
       "    </tr>\n",
       "    <tr>\n",
       "      <th>150</th>\n",
       "      <td>12.2</td>\n",
       "      <td>12.1</td>\n",
       "      <td>13.0</td>\n",
       "      <td>13.8</td>\n",
       "      <td>2.2770</td>\n",
       "      <td>1.2558</td>\n",
       "      <td>0</td>\n",
       "      <td>0</td>\n",
       "      <td>0</td>\n",
       "      <td>0</td>\n",
       "      <td>1</td>\n",
       "      <td>0</td>\n",
       "    </tr>\n",
       "  </tbody>\n",
       "</table>\n",
       "<p>151 rows × 12 columns</p>\n",
       "</div>"
      ],
      "text/plain": [
       "     Weight  Length1  Length2  Length3   Height   Width  Species_Parkki  \\\n",
       "0     242.0     23.2     25.4     30.0  11.5200  4.0200               0   \n",
       "1     290.0     24.0     26.3     31.2  12.4800  4.3056               0   \n",
       "2     340.0     23.9     26.5     31.1  12.3778  4.6961               0   \n",
       "3     363.0     26.3     29.0     33.5  12.7300  4.4555               0   \n",
       "4     430.0     26.5     29.0     34.0  12.4440  5.1340               0   \n",
       "..      ...      ...      ...      ...      ...     ...             ...   \n",
       "146     9.9     11.3     11.8     13.1   2.2139  1.1659               0   \n",
       "147     9.8     11.4     12.0     13.2   2.2044  1.1484               0   \n",
       "148    12.2     11.5     12.2     13.4   2.0904  1.3936               0   \n",
       "149    13.4     11.7     12.4     13.5   2.4300  1.2690               0   \n",
       "150    12.2     12.1     13.0     13.8   2.2770  1.2558               0   \n",
       "\n",
       "     Species_Perch  Species_Pike  Species_Roach  Species_Smelt  \\\n",
       "0                0             0              0              0   \n",
       "1                0             0              0              0   \n",
       "2                0             0              0              0   \n",
       "3                0             0              0              0   \n",
       "4                0             0              0              0   \n",
       "..             ...           ...            ...            ...   \n",
       "146              0             0              0              1   \n",
       "147              0             0              0              1   \n",
       "148              0             0              0              1   \n",
       "149              0             0              0              1   \n",
       "150              0             0              0              1   \n",
       "\n",
       "     Species_Whitefish  \n",
       "0                    0  \n",
       "1                    0  \n",
       "2                    0  \n",
       "3                    0  \n",
       "4                    0  \n",
       "..                 ...  \n",
       "146                  0  \n",
       "147                  0  \n",
       "148                  0  \n",
       "149                  0  \n",
       "150                  0  \n",
       "\n",
       "[151 rows x 12 columns]"
      ]
     },
     "execution_count": 35,
     "metadata": {},
     "output_type": "execute_result"
    }
   ],
   "source": [
    "df = pd.get_dummies(df, drop_first = True)\n",
    "\n",
    "df"
   ]
  },
  {
   "cell_type": "code",
   "execution_count": 36,
   "id": "8e2b9472",
   "metadata": {
    "scrolled": true
   },
   "outputs": [
    {
     "data": {
      "text/html": [
       "<div>\n",
       "<style scoped>\n",
       "    .dataframe tbody tr th:only-of-type {\n",
       "        vertical-align: middle;\n",
       "    }\n",
       "\n",
       "    .dataframe tbody tr th {\n",
       "        vertical-align: top;\n",
       "    }\n",
       "\n",
       "    .dataframe thead th {\n",
       "        text-align: right;\n",
       "    }\n",
       "</style>\n",
       "<table border=\"1\" class=\"dataframe\">\n",
       "  <thead>\n",
       "    <tr style=\"text-align: right;\">\n",
       "      <th></th>\n",
       "      <th>Length1</th>\n",
       "      <th>Length2</th>\n",
       "      <th>Length3</th>\n",
       "      <th>Height</th>\n",
       "      <th>Width</th>\n",
       "      <th>Species_Parkki</th>\n",
       "      <th>Species_Perch</th>\n",
       "      <th>Species_Pike</th>\n",
       "      <th>Species_Roach</th>\n",
       "      <th>Species_Smelt</th>\n",
       "      <th>Species_Whitefish</th>\n",
       "    </tr>\n",
       "  </thead>\n",
       "  <tbody>\n",
       "    <tr>\n",
       "      <th>105</th>\n",
       "      <td>32.5</td>\n",
       "      <td>35.0</td>\n",
       "      <td>37.3</td>\n",
       "      <td>11.4884</td>\n",
       "      <td>7.7957</td>\n",
       "      <td>0</td>\n",
       "      <td>1</td>\n",
       "      <td>0</td>\n",
       "      <td>0</td>\n",
       "      <td>0</td>\n",
       "      <td>0</td>\n",
       "    </tr>\n",
       "    <tr>\n",
       "      <th>4</th>\n",
       "      <td>26.5</td>\n",
       "      <td>29.0</td>\n",
       "      <td>34.0</td>\n",
       "      <td>12.4440</td>\n",
       "      <td>5.1340</td>\n",
       "      <td>0</td>\n",
       "      <td>0</td>\n",
       "      <td>0</td>\n",
       "      <td>0</td>\n",
       "      <td>0</td>\n",
       "      <td>0</td>\n",
       "    </tr>\n",
       "    <tr>\n",
       "      <th>32</th>\n",
       "      <td>36.2</td>\n",
       "      <td>39.5</td>\n",
       "      <td>45.3</td>\n",
       "      <td>18.7542</td>\n",
       "      <td>6.7497</td>\n",
       "      <td>0</td>\n",
       "      <td>0</td>\n",
       "      <td>0</td>\n",
       "      <td>0</td>\n",
       "      <td>0</td>\n",
       "      <td>0</td>\n",
       "    </tr>\n",
       "    <tr>\n",
       "      <th>42</th>\n",
       "      <td>20.5</td>\n",
       "      <td>22.5</td>\n",
       "      <td>25.3</td>\n",
       "      <td>7.0334</td>\n",
       "      <td>3.8203</td>\n",
       "      <td>0</td>\n",
       "      <td>0</td>\n",
       "      <td>0</td>\n",
       "      <td>1</td>\n",
       "      <td>0</td>\n",
       "      <td>0</td>\n",
       "    </tr>\n",
       "    <tr>\n",
       "      <th>144</th>\n",
       "      <td>10.8</td>\n",
       "      <td>11.3</td>\n",
       "      <td>12.6</td>\n",
       "      <td>1.9782</td>\n",
       "      <td>1.2852</td>\n",
       "      <td>0</td>\n",
       "      <td>0</td>\n",
       "      <td>0</td>\n",
       "      <td>0</td>\n",
       "      <td>1</td>\n",
       "      <td>0</td>\n",
       "    </tr>\n",
       "    <tr>\n",
       "      <th>...</th>\n",
       "      <td>...</td>\n",
       "      <td>...</td>\n",
       "      <td>...</td>\n",
       "      <td>...</td>\n",
       "      <td>...</td>\n",
       "      <td>...</td>\n",
       "      <td>...</td>\n",
       "      <td>...</td>\n",
       "      <td>...</td>\n",
       "      <td>...</td>\n",
       "      <td>...</td>\n",
       "    </tr>\n",
       "    <tr>\n",
       "      <th>71</th>\n",
       "      <td>16.2</td>\n",
       "      <td>18.0</td>\n",
       "      <td>19.2</td>\n",
       "      <td>5.2224</td>\n",
       "      <td>3.3216</td>\n",
       "      <td>0</td>\n",
       "      <td>1</td>\n",
       "      <td>0</td>\n",
       "      <td>0</td>\n",
       "      <td>0</td>\n",
       "      <td>0</td>\n",
       "    </tr>\n",
       "    <tr>\n",
       "      <th>106</th>\n",
       "      <td>34.0</td>\n",
       "      <td>36.5</td>\n",
       "      <td>39.0</td>\n",
       "      <td>10.8810</td>\n",
       "      <td>6.8640</td>\n",
       "      <td>0</td>\n",
       "      <td>1</td>\n",
       "      <td>0</td>\n",
       "      <td>0</td>\n",
       "      <td>0</td>\n",
       "      <td>0</td>\n",
       "    </tr>\n",
       "    <tr>\n",
       "      <th>14</th>\n",
       "      <td>29.4</td>\n",
       "      <td>32.0</td>\n",
       "      <td>37.2</td>\n",
       "      <td>14.9544</td>\n",
       "      <td>5.1708</td>\n",
       "      <td>0</td>\n",
       "      <td>0</td>\n",
       "      <td>0</td>\n",
       "      <td>0</td>\n",
       "      <td>0</td>\n",
       "      <td>0</td>\n",
       "    </tr>\n",
       "    <tr>\n",
       "      <th>92</th>\n",
       "      <td>22.6</td>\n",
       "      <td>24.6</td>\n",
       "      <td>26.2</td>\n",
       "      <td>6.7334</td>\n",
       "      <td>4.1658</td>\n",
       "      <td>0</td>\n",
       "      <td>1</td>\n",
       "      <td>0</td>\n",
       "      <td>0</td>\n",
       "      <td>0</td>\n",
       "      <td>0</td>\n",
       "    </tr>\n",
       "    <tr>\n",
       "      <th>102</th>\n",
       "      <td>27.8</td>\n",
       "      <td>30.0</td>\n",
       "      <td>31.6</td>\n",
       "      <td>7.6156</td>\n",
       "      <td>4.7716</td>\n",
       "      <td>0</td>\n",
       "      <td>1</td>\n",
       "      <td>0</td>\n",
       "      <td>0</td>\n",
       "      <td>0</td>\n",
       "      <td>0</td>\n",
       "    </tr>\n",
       "  </tbody>\n",
       "</table>\n",
       "<p>113 rows × 11 columns</p>\n",
       "</div>"
      ],
      "text/plain": [
       "     Length1  Length2  Length3   Height   Width  Species_Parkki  \\\n",
       "105     32.5     35.0     37.3  11.4884  7.7957               0   \n",
       "4       26.5     29.0     34.0  12.4440  5.1340               0   \n",
       "32      36.2     39.5     45.3  18.7542  6.7497               0   \n",
       "42      20.5     22.5     25.3   7.0334  3.8203               0   \n",
       "144     10.8     11.3     12.6   1.9782  1.2852               0   \n",
       "..       ...      ...      ...      ...     ...             ...   \n",
       "71      16.2     18.0     19.2   5.2224  3.3216               0   \n",
       "106     34.0     36.5     39.0  10.8810  6.8640               0   \n",
       "14      29.4     32.0     37.2  14.9544  5.1708               0   \n",
       "92      22.6     24.6     26.2   6.7334  4.1658               0   \n",
       "102     27.8     30.0     31.6   7.6156  4.7716               0   \n",
       "\n",
       "     Species_Perch  Species_Pike  Species_Roach  Species_Smelt  \\\n",
       "105              1             0              0              0   \n",
       "4                0             0              0              0   \n",
       "32               0             0              0              0   \n",
       "42               0             0              1              0   \n",
       "144              0             0              0              1   \n",
       "..             ...           ...            ...            ...   \n",
       "71               1             0              0              0   \n",
       "106              1             0              0              0   \n",
       "14               0             0              0              0   \n",
       "92               1             0              0              0   \n",
       "102              1             0              0              0   \n",
       "\n",
       "     Species_Whitefish  \n",
       "105                  0  \n",
       "4                    0  \n",
       "32                   0  \n",
       "42                   0  \n",
       "144                  0  \n",
       "..                 ...  \n",
       "71                   0  \n",
       "106                  0  \n",
       "14                   0  \n",
       "92                   0  \n",
       "102                  0  \n",
       "\n",
       "[113 rows x 11 columns]"
      ]
     },
     "execution_count": 36,
     "metadata": {},
     "output_type": "execute_result"
    }
   ],
   "source": [
    "# Split the dataset into the training set and test set\n",
    "X = df.iloc[:, 1:]\n",
    "y = df.iloc[:, 0].to_frame()\n",
    "\n",
    "X_train, X_test, y_train, y_test  = train_test_split(X, y, test_size=0.25, random_state=42)\n",
    "X_train "
   ]
  },
  {
   "cell_type": "markdown",
   "id": "10901392",
   "metadata": {},
   "source": [
    "### Scaling the training data using StandardScaler\n",
    "\n",
    "I use StandardScaler to prepare data for training by regularized regression to get faster convergence and appropriate coefficient values (for numerical data only)"
   ]
  },
  {
   "cell_type": "code",
   "execution_count": 37,
   "id": "d5168c21",
   "metadata": {
    "scrolled": true
   },
   "outputs": [],
   "source": [
    "X_scaler = StandardScaler()\n",
    "y_scaler = StandardScaler()\n",
    "\n",
    "X_scaler.fit(X_train.iloc[:, 0:5])\n",
    "y_scaler.fit(y_train)\n",
    "\n",
    "\n",
    "X_train_continous_scaled = X_scaler.transform(X_train.iloc[:, 0:5])\n",
    "X_test_continous_scaled = X_scaler.transform(X_test.iloc[:,0:5])\n",
    "\n",
    "y_train_scaled = y_scaler.transform(y_train)\n",
    "y_test_scaled = y_scaler.transform(y_test)\n"
   ]
  },
  {
   "cell_type": "code",
   "execution_count": 38,
   "id": "e3de906d",
   "metadata": {},
   "outputs": [],
   "source": [
    "col_name = X_train.columns.to_list()\n",
    "col_name\n",
    "\n",
    "X_train_scaled = pd.DataFrame(np.hstack((X_train_continous_scaled, X_train.iloc[:,5:])), columns  = col_name )\n",
    "X_test_scaled = pd.DataFrame(np.hstack((X_test_continous_scaled, X_test.iloc[:, 5:])),columns  = col_name )\n",
    "y_train_scaled = pd.DataFrame(y_train_scaled, columns = ['Weight'])\n",
    "y_test_scaled = pd.DataFrame(y_test_scaled, columns = ['Weight'])\n",
    "\n"
   ]
  },
  {
   "cell_type": "code",
   "execution_count": 39,
   "id": "20f1c92d",
   "metadata": {},
   "outputs": [
    {
     "data": {
      "text/html": [
       "<div>\n",
       "<style scoped>\n",
       "    .dataframe tbody tr th:only-of-type {\n",
       "        vertical-align: middle;\n",
       "    }\n",
       "\n",
       "    .dataframe tbody tr th {\n",
       "        vertical-align: top;\n",
       "    }\n",
       "\n",
       "    .dataframe thead th {\n",
       "        text-align: right;\n",
       "    }\n",
       "</style>\n",
       "<table border=\"1\" class=\"dataframe\">\n",
       "  <thead>\n",
       "    <tr style=\"text-align: right;\">\n",
       "      <th></th>\n",
       "      <th>Length1</th>\n",
       "      <th>Length2</th>\n",
       "      <th>Length3</th>\n",
       "      <th>Height</th>\n",
       "      <th>Width</th>\n",
       "      <th>Species_Parkki</th>\n",
       "      <th>Species_Perch</th>\n",
       "      <th>Species_Pike</th>\n",
       "      <th>Species_Roach</th>\n",
       "      <th>Species_Smelt</th>\n",
       "      <th>Species_Whitefish</th>\n",
       "    </tr>\n",
       "  </thead>\n",
       "  <tbody>\n",
       "    <tr>\n",
       "      <th>0</th>\n",
       "      <td>0.619841</td>\n",
       "      <td>0.610064</td>\n",
       "      <td>0.531007</td>\n",
       "      <td>0.652282</td>\n",
       "      <td>1.926011</td>\n",
       "      <td>0.0</td>\n",
       "      <td>1.0</td>\n",
       "      <td>0.0</td>\n",
       "      <td>0.0</td>\n",
       "      <td>0.0</td>\n",
       "      <td>0.0</td>\n",
       "    </tr>\n",
       "    <tr>\n",
       "      <th>1</th>\n",
       "      <td>0.007050</td>\n",
       "      <td>0.038050</td>\n",
       "      <td>0.238176</td>\n",
       "      <td>0.894442</td>\n",
       "      <td>0.368922</td>\n",
       "      <td>0.0</td>\n",
       "      <td>0.0</td>\n",
       "      <td>0.0</td>\n",
       "      <td>0.0</td>\n",
       "      <td>0.0</td>\n",
       "      <td>0.0</td>\n",
       "    </tr>\n",
       "    <tr>\n",
       "      <th>2</th>\n",
       "      <td>0.997729</td>\n",
       "      <td>1.039074</td>\n",
       "      <td>1.240901</td>\n",
       "      <td>2.493517</td>\n",
       "      <td>1.314103</td>\n",
       "      <td>0.0</td>\n",
       "      <td>0.0</td>\n",
       "      <td>0.0</td>\n",
       "      <td>0.0</td>\n",
       "      <td>0.0</td>\n",
       "      <td>0.0</td>\n",
       "    </tr>\n",
       "    <tr>\n",
       "      <th>3</th>\n",
       "      <td>-0.605741</td>\n",
       "      <td>-0.581632</td>\n",
       "      <td>-0.533834</td>\n",
       "      <td>-0.476665</td>\n",
       "      <td>-0.399590</td>\n",
       "      <td>0.0</td>\n",
       "      <td>0.0</td>\n",
       "      <td>0.0</td>\n",
       "      <td>1.0</td>\n",
       "      <td>0.0</td>\n",
       "      <td>0.0</td>\n",
       "    </tr>\n",
       "    <tr>\n",
       "      <th>4</th>\n",
       "      <td>-1.596420</td>\n",
       "      <td>-1.649391</td>\n",
       "      <td>-1.660790</td>\n",
       "      <td>-1.757710</td>\n",
       "      <td>-1.882618</td>\n",
       "      <td>0.0</td>\n",
       "      <td>0.0</td>\n",
       "      <td>0.0</td>\n",
       "      <td>0.0</td>\n",
       "      <td>1.0</td>\n",
       "      <td>0.0</td>\n",
       "    </tr>\n",
       "  </tbody>\n",
       "</table>\n",
       "</div>"
      ],
      "text/plain": [
       "    Length1   Length2   Length3    Height     Width  Species_Parkki  \\\n",
       "0  0.619841  0.610064  0.531007  0.652282  1.926011             0.0   \n",
       "1  0.007050  0.038050  0.238176  0.894442  0.368922             0.0   \n",
       "2  0.997729  1.039074  1.240901  2.493517  1.314103             0.0   \n",
       "3 -0.605741 -0.581632 -0.533834 -0.476665 -0.399590             0.0   \n",
       "4 -1.596420 -1.649391 -1.660790 -1.757710 -1.882618             0.0   \n",
       "\n",
       "   Species_Perch  Species_Pike  Species_Roach  Species_Smelt  \\\n",
       "0            1.0           0.0            0.0            0.0   \n",
       "1            0.0           0.0            0.0            0.0   \n",
       "2            0.0           0.0            0.0            0.0   \n",
       "3            0.0           0.0            1.0            0.0   \n",
       "4            0.0           0.0            0.0            1.0   \n",
       "\n",
       "   Species_Whitefish  \n",
       "0                0.0  \n",
       "1                0.0  \n",
       "2                0.0  \n",
       "3                0.0  \n",
       "4                0.0  "
      ]
     },
     "execution_count": 39,
     "metadata": {},
     "output_type": "execute_result"
    }
   ],
   "source": [
    "X_train_scaled.head()"
   ]
  },
  {
   "cell_type": "code",
   "execution_count": 40,
   "id": "4d6553e4",
   "metadata": {},
   "outputs": [
    {
     "data": {
      "text/html": [
       "<div>\n",
       "<style scoped>\n",
       "    .dataframe tbody tr th:only-of-type {\n",
       "        vertical-align: middle;\n",
       "    }\n",
       "\n",
       "    .dataframe tbody tr th {\n",
       "        vertical-align: top;\n",
       "    }\n",
       "\n",
       "    .dataframe thead th {\n",
       "        text-align: right;\n",
       "    }\n",
       "</style>\n",
       "<table border=\"1\" class=\"dataframe\">\n",
       "  <thead>\n",
       "    <tr style=\"text-align: right;\">\n",
       "      <th></th>\n",
       "      <th>Length1</th>\n",
       "      <th>Length2</th>\n",
       "      <th>Length3</th>\n",
       "      <th>Height</th>\n",
       "      <th>Width</th>\n",
       "      <th>Species_Parkki</th>\n",
       "      <th>Species_Perch</th>\n",
       "      <th>Species_Pike</th>\n",
       "      <th>Species_Roach</th>\n",
       "      <th>Species_Smelt</th>\n",
       "      <th>Species_Whitefish</th>\n",
       "    </tr>\n",
       "  </thead>\n",
       "  <tbody>\n",
       "    <tr>\n",
       "      <th>0</th>\n",
       "      <td>-0.758939</td>\n",
       "      <td>-0.724635</td>\n",
       "      <td>-0.782297</td>\n",
       "      <td>-0.816464</td>\n",
       "      <td>-0.554790</td>\n",
       "      <td>0.0</td>\n",
       "      <td>1.0</td>\n",
       "      <td>0.0</td>\n",
       "      <td>0.0</td>\n",
       "      <td>0.0</td>\n",
       "      <td>0.0</td>\n",
       "    </tr>\n",
       "    <tr>\n",
       "      <th>1</th>\n",
       "      <td>0.456430</td>\n",
       "      <td>0.467060</td>\n",
       "      <td>0.646365</td>\n",
       "      <td>1.702570</td>\n",
       "      <td>0.368805</td>\n",
       "      <td>0.0</td>\n",
       "      <td>0.0</td>\n",
       "      <td>0.0</td>\n",
       "      <td>0.0</td>\n",
       "      <td>0.0</td>\n",
       "      <td>0.0</td>\n",
       "    </tr>\n",
       "    <tr>\n",
       "      <th>2</th>\n",
       "      <td>-0.656807</td>\n",
       "      <td>-0.629300</td>\n",
       "      <td>-0.693560</td>\n",
       "      <td>-0.710665</td>\n",
       "      <td>-0.572340</td>\n",
       "      <td>0.0</td>\n",
       "      <td>1.0</td>\n",
       "      <td>0.0</td>\n",
       "      <td>0.0</td>\n",
       "      <td>0.0</td>\n",
       "      <td>0.0</td>\n",
       "    </tr>\n",
       "    <tr>\n",
       "      <th>3</th>\n",
       "      <td>-0.656807</td>\n",
       "      <td>-0.629300</td>\n",
       "      <td>-0.693560</td>\n",
       "      <td>-0.829768</td>\n",
       "      <td>-0.572340</td>\n",
       "      <td>0.0</td>\n",
       "      <td>1.0</td>\n",
       "      <td>0.0</td>\n",
       "      <td>0.0</td>\n",
       "      <td>0.0</td>\n",
       "      <td>0.0</td>\n",
       "    </tr>\n",
       "    <tr>\n",
       "      <th>4</th>\n",
       "      <td>-1.606633</td>\n",
       "      <td>-1.658924</td>\n",
       "      <td>-1.678538</td>\n",
       "      <td>-1.731101</td>\n",
       "      <td>-1.887298</td>\n",
       "      <td>0.0</td>\n",
       "      <td>0.0</td>\n",
       "      <td>0.0</td>\n",
       "      <td>0.0</td>\n",
       "      <td>1.0</td>\n",
       "      <td>0.0</td>\n",
       "    </tr>\n",
       "  </tbody>\n",
       "</table>\n",
       "</div>"
      ],
      "text/plain": [
       "    Length1   Length2   Length3    Height     Width  Species_Parkki  \\\n",
       "0 -0.758939 -0.724635 -0.782297 -0.816464 -0.554790             0.0   \n",
       "1  0.456430  0.467060  0.646365  1.702570  0.368805             0.0   \n",
       "2 -0.656807 -0.629300 -0.693560 -0.710665 -0.572340             0.0   \n",
       "3 -0.656807 -0.629300 -0.693560 -0.829768 -0.572340             0.0   \n",
       "4 -1.606633 -1.658924 -1.678538 -1.731101 -1.887298             0.0   \n",
       "\n",
       "   Species_Perch  Species_Pike  Species_Roach  Species_Smelt  \\\n",
       "0            1.0           0.0            0.0            0.0   \n",
       "1            0.0           0.0            0.0            0.0   \n",
       "2            1.0           0.0            0.0            0.0   \n",
       "3            1.0           0.0            0.0            0.0   \n",
       "4            0.0           0.0            0.0            1.0   \n",
       "\n",
       "   Species_Whitefish  \n",
       "0                0.0  \n",
       "1                0.0  \n",
       "2                0.0  \n",
       "3                0.0  \n",
       "4                0.0  "
      ]
     },
     "execution_count": 40,
     "metadata": {},
     "output_type": "execute_result"
    }
   ],
   "source": [
    "X_test_scaled.head()"
   ]
  },
  {
   "cell_type": "code",
   "execution_count": 41,
   "id": "a75c4be2",
   "metadata": {},
   "outputs": [
    {
     "data": {
      "text/html": [
       "<div>\n",
       "<style scoped>\n",
       "    .dataframe tbody tr th:only-of-type {\n",
       "        vertical-align: middle;\n",
       "    }\n",
       "\n",
       "    .dataframe tbody tr th {\n",
       "        vertical-align: top;\n",
       "    }\n",
       "\n",
       "    .dataframe thead th {\n",
       "        text-align: right;\n",
       "    }\n",
       "</style>\n",
       "<table border=\"1\" class=\"dataframe\">\n",
       "  <thead>\n",
       "    <tr style=\"text-align: right;\">\n",
       "      <th></th>\n",
       "      <th>Weight</th>\n",
       "    </tr>\n",
       "  </thead>\n",
       "  <tbody>\n",
       "    <tr>\n",
       "      <th>0</th>\n",
       "      <td>1.216423</td>\n",
       "    </tr>\n",
       "    <tr>\n",
       "      <th>1</th>\n",
       "      <td>0.072028</td>\n",
       "    </tr>\n",
       "    <tr>\n",
       "      <th>2</th>\n",
       "      <td>1.453676</td>\n",
       "    </tr>\n",
       "    <tr>\n",
       "      <th>3</th>\n",
       "      <td>-0.681598</td>\n",
       "    </tr>\n",
       "    <tr>\n",
       "      <th>4</th>\n",
       "      <td>-1.103908</td>\n",
       "    </tr>\n",
       "    <tr>\n",
       "      <th>...</th>\n",
       "      <td>...</td>\n",
       "    </tr>\n",
       "    <tr>\n",
       "      <th>108</th>\n",
       "      <td>-0.849070</td>\n",
       "    </tr>\n",
       "    <tr>\n",
       "      <th>109</th>\n",
       "      <td>0.783786</td>\n",
       "    </tr>\n",
       "    <tr>\n",
       "      <th>110</th>\n",
       "      <td>0.546533</td>\n",
       "    </tr>\n",
       "    <tr>\n",
       "      <th>111</th>\n",
       "      <td>-0.603444</td>\n",
       "    </tr>\n",
       "    <tr>\n",
       "      <th>112</th>\n",
       "      <td>-0.235005</td>\n",
       "    </tr>\n",
       "  </tbody>\n",
       "</table>\n",
       "<p>113 rows × 1 columns</p>\n",
       "</div>"
      ],
      "text/plain": [
       "       Weight\n",
       "0    1.216423\n",
       "1    0.072028\n",
       "2    1.453676\n",
       "3   -0.681598\n",
       "4   -1.103908\n",
       "..        ...\n",
       "108 -0.849070\n",
       "109  0.783786\n",
       "110  0.546533\n",
       "111 -0.603444\n",
       "112 -0.235005\n",
       "\n",
       "[113 rows x 1 columns]"
      ]
     },
     "execution_count": 41,
     "metadata": {},
     "output_type": "execute_result"
    }
   ],
   "source": [
    "y_train_scaled"
   ]
  },
  {
   "cell_type": "code",
   "execution_count": 42,
   "id": "00408ef2",
   "metadata": {},
   "outputs": [
    {
     "data": {
      "text/html": [
       "<div>\n",
       "<style scoped>\n",
       "    .dataframe tbody tr th:only-of-type {\n",
       "        vertical-align: middle;\n",
       "    }\n",
       "\n",
       "    .dataframe tbody tr th {\n",
       "        vertical-align: top;\n",
       "    }\n",
       "\n",
       "    .dataframe thead th {\n",
       "        text-align: right;\n",
       "    }\n",
       "</style>\n",
       "<table border=\"1\" class=\"dataframe\">\n",
       "  <thead>\n",
       "    <tr style=\"text-align: right;\">\n",
       "      <th></th>\n",
       "      <th>Weight</th>\n",
       "    </tr>\n",
       "  </thead>\n",
       "  <tbody>\n",
       "    <tr>\n",
       "      <th>0</th>\n",
       "      <td>-0.821158</td>\n",
       "    </tr>\n",
       "    <tr>\n",
       "      <th>1</th>\n",
       "      <td>0.574445</td>\n",
       "    </tr>\n",
       "    <tr>\n",
       "      <th>2</th>\n",
       "      <td>-0.765334</td>\n",
       "    </tr>\n",
       "    <tr>\n",
       "      <th>3</th>\n",
       "      <td>-0.793246</td>\n",
       "    </tr>\n",
       "    <tr>\n",
       "      <th>4</th>\n",
       "      <td>-1.100837</td>\n",
       "    </tr>\n",
       "    <tr>\n",
       "      <th>5</th>\n",
       "      <td>1.537412</td>\n",
       "    </tr>\n",
       "    <tr>\n",
       "      <th>6</th>\n",
       "      <td>-0.779290</td>\n",
       "    </tr>\n",
       "    <tr>\n",
       "      <th>7</th>\n",
       "      <td>-0.366192</td>\n",
       "    </tr>\n",
       "    <tr>\n",
       "      <th>8</th>\n",
       "      <td>-0.974675</td>\n",
       "    </tr>\n",
       "    <tr>\n",
       "      <th>9</th>\n",
       "      <td>-0.765334</td>\n",
       "    </tr>\n",
       "    <tr>\n",
       "      <th>10</th>\n",
       "      <td>-0.656477</td>\n",
       "    </tr>\n",
       "    <tr>\n",
       "      <th>11</th>\n",
       "      <td>0.267412</td>\n",
       "    </tr>\n",
       "    <tr>\n",
       "      <th>12</th>\n",
       "      <td>-0.885356</td>\n",
       "    </tr>\n",
       "    <tr>\n",
       "      <th>13</th>\n",
       "      <td>0.267412</td>\n",
       "    </tr>\n",
       "    <tr>\n",
       "      <th>14</th>\n",
       "      <td>0.686094</td>\n",
       "    </tr>\n",
       "    <tr>\n",
       "      <th>15</th>\n",
       "      <td>3.198180</td>\n",
       "    </tr>\n",
       "    <tr>\n",
       "      <th>16</th>\n",
       "      <td>1.383895</td>\n",
       "    </tr>\n",
       "    <tr>\n",
       "      <th>17</th>\n",
       "      <td>-1.100558</td>\n",
       "    </tr>\n",
       "    <tr>\n",
       "      <th>18</th>\n",
       "      <td>-0.960719</td>\n",
       "    </tr>\n",
       "    <tr>\n",
       "      <th>19</th>\n",
       "      <td>1.021038</td>\n",
       "    </tr>\n",
       "    <tr>\n",
       "      <th>20</th>\n",
       "      <td>1.663016</td>\n",
       "    </tr>\n",
       "    <tr>\n",
       "      <th>21</th>\n",
       "      <td>-0.821158</td>\n",
       "    </tr>\n",
       "    <tr>\n",
       "      <th>22</th>\n",
       "      <td>0.881478</td>\n",
       "    </tr>\n",
       "    <tr>\n",
       "      <th>23</th>\n",
       "      <td>0.454423</td>\n",
       "    </tr>\n",
       "    <tr>\n",
       "      <th>24</th>\n",
       "      <td>-0.290829</td>\n",
       "    </tr>\n",
       "    <tr>\n",
       "      <th>25</th>\n",
       "      <td>-1.101116</td>\n",
       "    </tr>\n",
       "    <tr>\n",
       "      <th>26</th>\n",
       "      <td>0.686094</td>\n",
       "    </tr>\n",
       "    <tr>\n",
       "      <th>27</th>\n",
       "      <td>-1.038873</td>\n",
       "    </tr>\n",
       "    <tr>\n",
       "      <th>28</th>\n",
       "      <td>-0.388521</td>\n",
       "    </tr>\n",
       "    <tr>\n",
       "      <th>29</th>\n",
       "      <td>1.439720</td>\n",
       "    </tr>\n",
       "    <tr>\n",
       "      <th>30</th>\n",
       "      <td>0.602357</td>\n",
       "    </tr>\n",
       "    <tr>\n",
       "      <th>31</th>\n",
       "      <td>0.546533</td>\n",
       "    </tr>\n",
       "    <tr>\n",
       "      <th>32</th>\n",
       "      <td>-0.290829</td>\n",
       "    </tr>\n",
       "    <tr>\n",
       "      <th>33</th>\n",
       "      <td>0.267412</td>\n",
       "    </tr>\n",
       "    <tr>\n",
       "      <th>34</th>\n",
       "      <td>-0.165225</td>\n",
       "    </tr>\n",
       "    <tr>\n",
       "      <th>35</th>\n",
       "      <td>-0.274082</td>\n",
       "    </tr>\n",
       "    <tr>\n",
       "      <th>36</th>\n",
       "      <td>-1.111723</td>\n",
       "    </tr>\n",
       "    <tr>\n",
       "      <th>37</th>\n",
       "      <td>0.864731</td>\n",
       "    </tr>\n",
       "  </tbody>\n",
       "</table>\n",
       "</div>"
      ],
      "text/plain": [
       "      Weight\n",
       "0  -0.821158\n",
       "1   0.574445\n",
       "2  -0.765334\n",
       "3  -0.793246\n",
       "4  -1.100837\n",
       "5   1.537412\n",
       "6  -0.779290\n",
       "7  -0.366192\n",
       "8  -0.974675\n",
       "9  -0.765334\n",
       "10 -0.656477\n",
       "11  0.267412\n",
       "12 -0.885356\n",
       "13  0.267412\n",
       "14  0.686094\n",
       "15  3.198180\n",
       "16  1.383895\n",
       "17 -1.100558\n",
       "18 -0.960719\n",
       "19  1.021038\n",
       "20  1.663016\n",
       "21 -0.821158\n",
       "22  0.881478\n",
       "23  0.454423\n",
       "24 -0.290829\n",
       "25 -1.101116\n",
       "26  0.686094\n",
       "27 -1.038873\n",
       "28 -0.388521\n",
       "29  1.439720\n",
       "30  0.602357\n",
       "31  0.546533\n",
       "32 -0.290829\n",
       "33  0.267412\n",
       "34 -0.165225\n",
       "35 -0.274082\n",
       "36 -1.111723\n",
       "37  0.864731"
      ]
     },
     "execution_count": 42,
     "metadata": {},
     "output_type": "execute_result"
    }
   ],
   "source": [
    "y_test_scaled"
   ]
  },
  {
   "cell_type": "markdown",
   "id": "5109393a",
   "metadata": {},
   "source": [
    "## Model Training <a name=\"Modeltraining\"></a>"
   ]
  },
  {
   "cell_type": "code",
   "execution_count": 43,
   "id": "85b76307",
   "metadata": {},
   "outputs": [
    {
     "data": {
      "text/html": [
       "<div>\n",
       "<style scoped>\n",
       "    .dataframe tbody tr th:only-of-type {\n",
       "        vertical-align: middle;\n",
       "    }\n",
       "\n",
       "    .dataframe tbody tr th {\n",
       "        vertical-align: top;\n",
       "    }\n",
       "\n",
       "    .dataframe thead th {\n",
       "        text-align: right;\n",
       "    }\n",
       "</style>\n",
       "<table border=\"1\" class=\"dataframe\">\n",
       "  <thead>\n",
       "    <tr style=\"text-align: right;\">\n",
       "      <th></th>\n",
       "      <th>Weight</th>\n",
       "      <th>Length1</th>\n",
       "      <th>Length2</th>\n",
       "      <th>Length3</th>\n",
       "      <th>Height</th>\n",
       "      <th>Width</th>\n",
       "      <th>Species_Parkki</th>\n",
       "      <th>Species_Perch</th>\n",
       "      <th>Species_Pike</th>\n",
       "      <th>Species_Roach</th>\n",
       "      <th>Species_Smelt</th>\n",
       "      <th>Species_Whitefish</th>\n",
       "    </tr>\n",
       "  </thead>\n",
       "  <tbody>\n",
       "    <tr>\n",
       "      <th>0</th>\n",
       "      <td>1.216423</td>\n",
       "      <td>0.619841</td>\n",
       "      <td>0.610064</td>\n",
       "      <td>0.531007</td>\n",
       "      <td>0.652282</td>\n",
       "      <td>1.926011</td>\n",
       "      <td>0.0</td>\n",
       "      <td>1.0</td>\n",
       "      <td>0.0</td>\n",
       "      <td>0.0</td>\n",
       "      <td>0.0</td>\n",
       "      <td>0.0</td>\n",
       "    </tr>\n",
       "    <tr>\n",
       "      <th>1</th>\n",
       "      <td>0.072028</td>\n",
       "      <td>0.007050</td>\n",
       "      <td>0.038050</td>\n",
       "      <td>0.238176</td>\n",
       "      <td>0.894442</td>\n",
       "      <td>0.368922</td>\n",
       "      <td>0.0</td>\n",
       "      <td>0.0</td>\n",
       "      <td>0.0</td>\n",
       "      <td>0.0</td>\n",
       "      <td>0.0</td>\n",
       "      <td>0.0</td>\n",
       "    </tr>\n",
       "    <tr>\n",
       "      <th>2</th>\n",
       "      <td>1.453676</td>\n",
       "      <td>0.997729</td>\n",
       "      <td>1.039074</td>\n",
       "      <td>1.240901</td>\n",
       "      <td>2.493517</td>\n",
       "      <td>1.314103</td>\n",
       "      <td>0.0</td>\n",
       "      <td>0.0</td>\n",
       "      <td>0.0</td>\n",
       "      <td>0.0</td>\n",
       "      <td>0.0</td>\n",
       "      <td>0.0</td>\n",
       "    </tr>\n",
       "    <tr>\n",
       "      <th>3</th>\n",
       "      <td>-0.681598</td>\n",
       "      <td>-0.605741</td>\n",
       "      <td>-0.581632</td>\n",
       "      <td>-0.533834</td>\n",
       "      <td>-0.476665</td>\n",
       "      <td>-0.399590</td>\n",
       "      <td>0.0</td>\n",
       "      <td>0.0</td>\n",
       "      <td>0.0</td>\n",
       "      <td>1.0</td>\n",
       "      <td>0.0</td>\n",
       "      <td>0.0</td>\n",
       "    </tr>\n",
       "    <tr>\n",
       "      <th>4</th>\n",
       "      <td>-1.103908</td>\n",
       "      <td>-1.596420</td>\n",
       "      <td>-1.649391</td>\n",
       "      <td>-1.660790</td>\n",
       "      <td>-1.757710</td>\n",
       "      <td>-1.882618</td>\n",
       "      <td>0.0</td>\n",
       "      <td>0.0</td>\n",
       "      <td>0.0</td>\n",
       "      <td>0.0</td>\n",
       "      <td>1.0</td>\n",
       "      <td>0.0</td>\n",
       "    </tr>\n",
       "    <tr>\n",
       "      <th>...</th>\n",
       "      <td>...</td>\n",
       "      <td>...</td>\n",
       "      <td>...</td>\n",
       "      <td>...</td>\n",
       "      <td>...</td>\n",
       "      <td>...</td>\n",
       "      <td>...</td>\n",
       "      <td>...</td>\n",
       "      <td>...</td>\n",
       "      <td>...</td>\n",
       "      <td>...</td>\n",
       "      <td>...</td>\n",
       "    </tr>\n",
       "    <tr>\n",
       "      <th>108</th>\n",
       "      <td>-0.849070</td>\n",
       "      <td>-1.044908</td>\n",
       "      <td>-1.010642</td>\n",
       "      <td>-1.075128</td>\n",
       "      <td>-0.935593</td>\n",
       "      <td>-0.691328</td>\n",
       "      <td>0.0</td>\n",
       "      <td>1.0</td>\n",
       "      <td>0.0</td>\n",
       "      <td>0.0</td>\n",
       "      <td>0.0</td>\n",
       "      <td>0.0</td>\n",
       "    </tr>\n",
       "    <tr>\n",
       "      <th>109</th>\n",
       "      <td>0.783786</td>\n",
       "      <td>0.773039</td>\n",
       "      <td>0.753067</td>\n",
       "      <td>0.681859</td>\n",
       "      <td>0.498360</td>\n",
       "      <td>1.380968</td>\n",
       "      <td>0.0</td>\n",
       "      <td>1.0</td>\n",
       "      <td>0.0</td>\n",
       "      <td>0.0</td>\n",
       "      <td>0.0</td>\n",
       "      <td>0.0</td>\n",
       "    </tr>\n",
       "    <tr>\n",
       "      <th>110</th>\n",
       "      <td>0.546533</td>\n",
       "      <td>0.303232</td>\n",
       "      <td>0.324057</td>\n",
       "      <td>0.522133</td>\n",
       "      <td>1.530605</td>\n",
       "      <td>0.390450</td>\n",
       "      <td>0.0</td>\n",
       "      <td>0.0</td>\n",
       "      <td>0.0</td>\n",
       "      <td>0.0</td>\n",
       "      <td>0.0</td>\n",
       "      <td>0.0</td>\n",
       "    </tr>\n",
       "    <tr>\n",
       "      <th>111</th>\n",
       "      <td>-0.603444</td>\n",
       "      <td>-0.391264</td>\n",
       "      <td>-0.381427</td>\n",
       "      <td>-0.453971</td>\n",
       "      <td>-0.552689</td>\n",
       "      <td>-0.197473</td>\n",
       "      <td>0.0</td>\n",
       "      <td>1.0</td>\n",
       "      <td>0.0</td>\n",
       "      <td>0.0</td>\n",
       "      <td>0.0</td>\n",
       "      <td>0.0</td>\n",
       "    </tr>\n",
       "    <tr>\n",
       "      <th>112</th>\n",
       "      <td>-0.235005</td>\n",
       "      <td>0.139821</td>\n",
       "      <td>0.133386</td>\n",
       "      <td>0.025208</td>\n",
       "      <td>-0.329129</td>\n",
       "      <td>0.156919</td>\n",
       "      <td>0.0</td>\n",
       "      <td>1.0</td>\n",
       "      <td>0.0</td>\n",
       "      <td>0.0</td>\n",
       "      <td>0.0</td>\n",
       "      <td>0.0</td>\n",
       "    </tr>\n",
       "  </tbody>\n",
       "</table>\n",
       "<p>113 rows × 12 columns</p>\n",
       "</div>"
      ],
      "text/plain": [
       "       Weight   Length1   Length2   Length3    Height     Width  \\\n",
       "0    1.216423  0.619841  0.610064  0.531007  0.652282  1.926011   \n",
       "1    0.072028  0.007050  0.038050  0.238176  0.894442  0.368922   \n",
       "2    1.453676  0.997729  1.039074  1.240901  2.493517  1.314103   \n",
       "3   -0.681598 -0.605741 -0.581632 -0.533834 -0.476665 -0.399590   \n",
       "4   -1.103908 -1.596420 -1.649391 -1.660790 -1.757710 -1.882618   \n",
       "..        ...       ...       ...       ...       ...       ...   \n",
       "108 -0.849070 -1.044908 -1.010642 -1.075128 -0.935593 -0.691328   \n",
       "109  0.783786  0.773039  0.753067  0.681859  0.498360  1.380968   \n",
       "110  0.546533  0.303232  0.324057  0.522133  1.530605  0.390450   \n",
       "111 -0.603444 -0.391264 -0.381427 -0.453971 -0.552689 -0.197473   \n",
       "112 -0.235005  0.139821  0.133386  0.025208 -0.329129  0.156919   \n",
       "\n",
       "     Species_Parkki  Species_Perch  Species_Pike  Species_Roach  \\\n",
       "0               0.0            1.0           0.0            0.0   \n",
       "1               0.0            0.0           0.0            0.0   \n",
       "2               0.0            0.0           0.0            0.0   \n",
       "3               0.0            0.0           0.0            1.0   \n",
       "4               0.0            0.0           0.0            0.0   \n",
       "..              ...            ...           ...            ...   \n",
       "108             0.0            1.0           0.0            0.0   \n",
       "109             0.0            1.0           0.0            0.0   \n",
       "110             0.0            0.0           0.0            0.0   \n",
       "111             0.0            1.0           0.0            0.0   \n",
       "112             0.0            1.0           0.0            0.0   \n",
       "\n",
       "     Species_Smelt  Species_Whitefish  \n",
       "0              0.0                0.0  \n",
       "1              0.0                0.0  \n",
       "2              0.0                0.0  \n",
       "3              0.0                0.0  \n",
       "4              1.0                0.0  \n",
       "..             ...                ...  \n",
       "108            0.0                0.0  \n",
       "109            0.0                0.0  \n",
       "110            0.0                0.0  \n",
       "111            0.0                0.0  \n",
       "112            0.0                0.0  \n",
       "\n",
       "[113 rows x 12 columns]"
      ]
     },
     "execution_count": 43,
     "metadata": {},
     "output_type": "execute_result"
    }
   ],
   "source": [
    "df_train = pd.concat([y_train_scaled, X_train_scaled], axis =1 )\n",
    "df_train"
   ]
  },
  {
   "cell_type": "markdown",
   "id": "2b14a2d7",
   "metadata": {},
   "source": [
    "###  Multiple linear regression"
   ]
  },
  {
   "cell_type": "markdown",
   "id": "600de0ca",
   "metadata": {},
   "source": [
    "First, I run multiple linear regression for the whole training dataset. the dependent variable is Weight and the other fields are independent variables."
   ]
  },
  {
   "cell_type": "code",
   "execution_count": 44,
   "id": "769ad884",
   "metadata": {},
   "outputs": [
    {
     "data": {
      "text/html": [
       "<table class=\"simpletable\">\n",
       "<caption>OLS Regression Results</caption>\n",
       "<tr>\n",
       "  <th>Dep. Variable:</th>         <td>Weight</td>      <th>  R-squared:         </th> <td>   0.956</td>\n",
       "</tr>\n",
       "<tr>\n",
       "  <th>Model:</th>                   <td>OLS</td>       <th>  Adj. R-squared:    </th> <td>   0.951</td>\n",
       "</tr>\n",
       "<tr>\n",
       "  <th>Method:</th>             <td>Least Squares</td>  <th>  F-statistic:       </th> <td>   197.6</td>\n",
       "</tr>\n",
       "<tr>\n",
       "  <th>Date:</th>             <td>Tue, 28 May 2024</td> <th>  Prob (F-statistic):</th> <td>4.52e-63</td>\n",
       "</tr>\n",
       "<tr>\n",
       "  <th>Time:</th>                 <td>18:37:08</td>     <th>  Log-Likelihood:    </th> <td>  15.629</td>\n",
       "</tr>\n",
       "<tr>\n",
       "  <th>No. Observations:</th>      <td>   113</td>      <th>  AIC:               </th> <td>  -7.259</td>\n",
       "</tr>\n",
       "<tr>\n",
       "  <th>Df Residuals:</th>          <td>   101</td>      <th>  BIC:               </th> <td>   25.47</td>\n",
       "</tr>\n",
       "<tr>\n",
       "  <th>Df Model:</th>              <td>    11</td>      <th>                     </th>     <td> </td>   \n",
       "</tr>\n",
       "<tr>\n",
       "  <th>Covariance Type:</th>      <td>nonrobust</td>    <th>                     </th>     <td> </td>   \n",
       "</tr>\n",
       "</table>\n",
       "<table class=\"simpletable\">\n",
       "<tr>\n",
       "          <td></td>             <th>coef</th>     <th>std err</th>      <th>t</th>      <th>P>|t|</th>  <th>[0.025</th>    <th>0.975]</th>  \n",
       "</tr>\n",
       "<tr>\n",
       "  <th>Intercept</th>         <td>   -0.5596</td> <td>    0.259</td> <td>   -2.158</td> <td> 0.033</td> <td>   -1.074</td> <td>   -0.045</td>\n",
       "</tr>\n",
       "<tr>\n",
       "  <th>Length1</th>           <td>   -2.9631</td> <td>    1.044</td> <td>   -2.839</td> <td> 0.005</td> <td>   -5.033</td> <td>   -0.893</td>\n",
       "</tr>\n",
       "<tr>\n",
       "  <th>Length2</th>           <td>    2.4307</td> <td>    1.358</td> <td>    1.790</td> <td> 0.076</td> <td>   -0.263</td> <td>    5.125</td>\n",
       "</tr>\n",
       "<tr>\n",
       "  <th>Length3</th>           <td>    1.7261</td> <td>    0.967</td> <td>    1.785</td> <td> 0.077</td> <td>   -0.192</td> <td>    3.644</td>\n",
       "</tr>\n",
       "<tr>\n",
       "  <th>Height</th>            <td>    0.1027</td> <td>    0.152</td> <td>    0.676</td> <td> 0.501</td> <td>   -0.199</td> <td>    0.404</td>\n",
       "</tr>\n",
       "<tr>\n",
       "  <th>Width</th>             <td>    0.0209</td> <td>    0.115</td> <td>    0.182</td> <td> 0.856</td> <td>   -0.207</td> <td>    0.248</td>\n",
       "</tr>\n",
       "<tr>\n",
       "  <th>Species_Parkki</th>    <td>    0.6936</td> <td>    0.219</td> <td>    3.170</td> <td> 0.002</td> <td>    0.260</td> <td>    1.128</td>\n",
       "</tr>\n",
       "<tr>\n",
       "  <th>Species_Perch</th>     <td>    0.7256</td> <td>    0.354</td> <td>    2.048</td> <td> 0.043</td> <td>    0.023</td> <td>    1.428</td>\n",
       "</tr>\n",
       "<tr>\n",
       "  <th>Species_Pike</th>      <td>   -0.2368</td> <td>    0.404</td> <td>   -0.587</td> <td> 0.559</td> <td>   -1.038</td> <td>    0.564</td>\n",
       "</tr>\n",
       "<tr>\n",
       "  <th>Species_Roach</th>     <td>    0.6660</td> <td>    0.278</td> <td>    2.395</td> <td> 0.018</td> <td>    0.114</td> <td>    1.218</td>\n",
       "</tr>\n",
       "<tr>\n",
       "  <th>Species_Smelt</th>     <td>    1.8035</td> <td>    0.363</td> <td>    4.971</td> <td> 0.000</td> <td>    1.084</td> <td>    2.523</td>\n",
       "</tr>\n",
       "<tr>\n",
       "  <th>Species_Whitefish</th> <td>    0.5502</td> <td>    0.275</td> <td>    1.999</td> <td> 0.048</td> <td>    0.004</td> <td>    1.096</td>\n",
       "</tr>\n",
       "</table>\n",
       "<table class=\"simpletable\">\n",
       "<tr>\n",
       "  <th>Omnibus:</th>       <td>15.042</td> <th>  Durbin-Watson:     </th> <td>   2.056</td>\n",
       "</tr>\n",
       "<tr>\n",
       "  <th>Prob(Omnibus):</th> <td> 0.001</td> <th>  Jarque-Bera (JB):  </th> <td>  19.367</td>\n",
       "</tr>\n",
       "<tr>\n",
       "  <th>Skew:</th>          <td> 0.714</td> <th>  Prob(JB):          </th> <td>6.23e-05</td>\n",
       "</tr>\n",
       "<tr>\n",
       "  <th>Kurtosis:</th>      <td> 4.440</td> <th>  Cond. No.          </th> <td>    170.</td>\n",
       "</tr>\n",
       "</table><br/><br/>Notes:<br/>[1] Standard Errors assume that the covariance matrix of the errors is correctly specified."
      ],
      "text/plain": [
       "<class 'statsmodels.iolib.summary.Summary'>\n",
       "\"\"\"\n",
       "                            OLS Regression Results                            \n",
       "==============================================================================\n",
       "Dep. Variable:                 Weight   R-squared:                       0.956\n",
       "Model:                            OLS   Adj. R-squared:                  0.951\n",
       "Method:                 Least Squares   F-statistic:                     197.6\n",
       "Date:                Tue, 28 May 2024   Prob (F-statistic):           4.52e-63\n",
       "Time:                        18:37:08   Log-Likelihood:                 15.629\n",
       "No. Observations:                 113   AIC:                            -7.259\n",
       "Df Residuals:                     101   BIC:                             25.47\n",
       "Df Model:                          11                                         \n",
       "Covariance Type:            nonrobust                                         \n",
       "=====================================================================================\n",
       "                        coef    std err          t      P>|t|      [0.025      0.975]\n",
       "-------------------------------------------------------------------------------------\n",
       "Intercept            -0.5596      0.259     -2.158      0.033      -1.074      -0.045\n",
       "Length1              -2.9631      1.044     -2.839      0.005      -5.033      -0.893\n",
       "Length2               2.4307      1.358      1.790      0.076      -0.263       5.125\n",
       "Length3               1.7261      0.967      1.785      0.077      -0.192       3.644\n",
       "Height                0.1027      0.152      0.676      0.501      -0.199       0.404\n",
       "Width                 0.0209      0.115      0.182      0.856      -0.207       0.248\n",
       "Species_Parkki        0.6936      0.219      3.170      0.002       0.260       1.128\n",
       "Species_Perch         0.7256      0.354      2.048      0.043       0.023       1.428\n",
       "Species_Pike         -0.2368      0.404     -0.587      0.559      -1.038       0.564\n",
       "Species_Roach         0.6660      0.278      2.395      0.018       0.114       1.218\n",
       "Species_Smelt         1.8035      0.363      4.971      0.000       1.084       2.523\n",
       "Species_Whitefish     0.5502      0.275      1.999      0.048       0.004       1.096\n",
       "==============================================================================\n",
       "Omnibus:                       15.042   Durbin-Watson:                   2.056\n",
       "Prob(Omnibus):                  0.001   Jarque-Bera (JB):               19.367\n",
       "Skew:                           0.714   Prob(JB):                     6.23e-05\n",
       "Kurtosis:                       4.440   Cond. No.                         170.\n",
       "==============================================================================\n",
       "\n",
       "Notes:\n",
       "[1] Standard Errors assume that the covariance matrix of the errors is correctly specified.\n",
       "\"\"\""
      ]
     },
     "execution_count": 44,
     "metadata": {},
     "output_type": "execute_result"
    }
   ],
   "source": [
    "model_1 = sm.OLS.from_formula('Weight ~ Length1 + Length2 + Length3 + Height + Width + Species_Parkki + Species_Perch  + Species_Pike + Species_Roach + Species_Smelt + Species_Whitefish', data = df_train).fit()\n",
    "model_1.summary()"
   ]
  },
  {
   "cell_type": "markdown",
   "id": "fc918778",
   "metadata": {},
   "source": [
    "The p-value of some variables (**Length2, Length3, Height, Width, Species_Pike**) are larger than  0.05.\n",
    "You can try Bayesian Model Average to determine the better models.\n",
    "Now, I just removed some statistically insignificant variables."
   ]
  },
  {
   "cell_type": "code",
   "execution_count": 45,
   "id": "1277f3d9",
   "metadata": {
    "scrolled": true
   },
   "outputs": [
    {
     "data": {
      "text/html": [
       "<table class=\"simpletable\">\n",
       "<caption>OLS Regression Results</caption>\n",
       "<tr>\n",
       "  <th>Dep. Variable:</th>         <td>Weight</td>      <th>  R-squared:         </th> <td>   0.953</td>\n",
       "</tr>\n",
       "<tr>\n",
       "  <th>Model:</th>                   <td>OLS</td>       <th>  Adj. R-squared:    </th> <td>   0.950</td>\n",
       "</tr>\n",
       "<tr>\n",
       "  <th>Method:</th>             <td>Least Squares</td>  <th>  F-statistic:       </th> <td>   303.7</td>\n",
       "</tr>\n",
       "<tr>\n",
       "  <th>Date:</th>             <td>Tue, 28 May 2024</td> <th>  Prob (F-statistic):</th> <td>1.19e-66</td>\n",
       "</tr>\n",
       "<tr>\n",
       "  <th>Time:</th>                 <td>18:37:08</td>     <th>  Log-Likelihood:    </th> <td>  12.343</td>\n",
       "</tr>\n",
       "<tr>\n",
       "  <th>No. Observations:</th>      <td>   113</td>      <th>  AIC:               </th> <td>  -8.687</td>\n",
       "</tr>\n",
       "<tr>\n",
       "  <th>Df Residuals:</th>          <td>   105</td>      <th>  BIC:               </th> <td>   13.13</td>\n",
       "</tr>\n",
       "<tr>\n",
       "  <th>Df Model:</th>              <td>     7</td>      <th>                     </th>     <td> </td>   \n",
       "</tr>\n",
       "<tr>\n",
       "  <th>Covariance Type:</th>      <td>nonrobust</td>    <th>                     </th>     <td> </td>   \n",
       "</tr>\n",
       "</table>\n",
       "<table class=\"simpletable\">\n",
       "<tr>\n",
       "          <td></td>             <th>coef</th>     <th>std err</th>      <th>t</th>      <th>P>|t|</th>  <th>[0.025</th>    <th>0.975]</th>  \n",
       "</tr>\n",
       "<tr>\n",
       "  <th>Intercept</th>         <td>   -0.8652</td> <td>    0.072</td> <td>  -12.055</td> <td> 0.000</td> <td>   -1.008</td> <td>   -0.723</td>\n",
       "</tr>\n",
       "<tr>\n",
       "  <th>Length1</th>           <td>   -2.5713</td> <td>    0.284</td> <td>   -9.057</td> <td> 0.000</td> <td>   -3.134</td> <td>   -2.008</td>\n",
       "</tr>\n",
       "<tr>\n",
       "  <th>Length3</th>           <td>    3.8894</td> <td>    0.306</td> <td>   12.717</td> <td> 0.000</td> <td>    3.283</td> <td>    4.496</td>\n",
       "</tr>\n",
       "<tr>\n",
       "  <th>Species_Parkki</th>    <td>    1.0125</td> <td>    0.117</td> <td>    8.680</td> <td> 0.000</td> <td>    0.781</td> <td>    1.244</td>\n",
       "</tr>\n",
       "<tr>\n",
       "  <th>Species_Perch</th>     <td>    1.2115</td> <td>    0.100</td> <td>   12.150</td> <td> 0.000</td> <td>    1.014</td> <td>    1.409</td>\n",
       "</tr>\n",
       "<tr>\n",
       "  <th>Species_Roach</th>     <td>    0.8931</td> <td>    0.106</td> <td>    8.388</td> <td> 0.000</td> <td>    0.682</td> <td>    1.104</td>\n",
       "</tr>\n",
       "<tr>\n",
       "  <th>Species_Smelt</th>     <td>    2.1403</td> <td>    0.158</td> <td>   13.506</td> <td> 0.000</td> <td>    1.826</td> <td>    2.455</td>\n",
       "</tr>\n",
       "<tr>\n",
       "  <th>Species_Whitefish</th> <td>    0.8566</td> <td>    0.117</td> <td>    7.340</td> <td> 0.000</td> <td>    0.625</td> <td>    1.088</td>\n",
       "</tr>\n",
       "</table>\n",
       "<table class=\"simpletable\">\n",
       "<tr>\n",
       "  <th>Omnibus:</th>       <td> 5.440</td> <th>  Durbin-Watson:     </th> <td>   2.126</td>\n",
       "</tr>\n",
       "<tr>\n",
       "  <th>Prob(Omnibus):</th> <td> 0.066</td> <th>  Jarque-Bera (JB):  </th> <td>   4.850</td>\n",
       "</tr>\n",
       "<tr>\n",
       "  <th>Skew:</th>          <td> 0.444</td> <th>  Prob(JB):          </th> <td>  0.0885</td>\n",
       "</tr>\n",
       "<tr>\n",
       "  <th>Kurtosis:</th>      <td> 3.490</td> <th>  Cond. No.          </th> <td>    30.7</td>\n",
       "</tr>\n",
       "</table><br/><br/>Notes:<br/>[1] Standard Errors assume that the covariance matrix of the errors is correctly specified."
      ],
      "text/plain": [
       "<class 'statsmodels.iolib.summary.Summary'>\n",
       "\"\"\"\n",
       "                            OLS Regression Results                            \n",
       "==============================================================================\n",
       "Dep. Variable:                 Weight   R-squared:                       0.953\n",
       "Model:                            OLS   Adj. R-squared:                  0.950\n",
       "Method:                 Least Squares   F-statistic:                     303.7\n",
       "Date:                Tue, 28 May 2024   Prob (F-statistic):           1.19e-66\n",
       "Time:                        18:37:08   Log-Likelihood:                 12.343\n",
       "No. Observations:                 113   AIC:                            -8.687\n",
       "Df Residuals:                     105   BIC:                             13.13\n",
       "Df Model:                           7                                         \n",
       "Covariance Type:            nonrobust                                         \n",
       "=====================================================================================\n",
       "                        coef    std err          t      P>|t|      [0.025      0.975]\n",
       "-------------------------------------------------------------------------------------\n",
       "Intercept            -0.8652      0.072    -12.055      0.000      -1.008      -0.723\n",
       "Length1              -2.5713      0.284     -9.057      0.000      -3.134      -2.008\n",
       "Length3               3.8894      0.306     12.717      0.000       3.283       4.496\n",
       "Species_Parkki        1.0125      0.117      8.680      0.000       0.781       1.244\n",
       "Species_Perch         1.2115      0.100     12.150      0.000       1.014       1.409\n",
       "Species_Roach         0.8931      0.106      8.388      0.000       0.682       1.104\n",
       "Species_Smelt         2.1403      0.158     13.506      0.000       1.826       2.455\n",
       "Species_Whitefish     0.8566      0.117      7.340      0.000       0.625       1.088\n",
       "==============================================================================\n",
       "Omnibus:                        5.440   Durbin-Watson:                   2.126\n",
       "Prob(Omnibus):                  0.066   Jarque-Bera (JB):                4.850\n",
       "Skew:                           0.444   Prob(JB):                       0.0885\n",
       "Kurtosis:                       3.490   Cond. No.                         30.7\n",
       "==============================================================================\n",
       "\n",
       "Notes:\n",
       "[1] Standard Errors assume that the covariance matrix of the errors is correctly specified.\n",
       "\"\"\""
      ]
     },
     "execution_count": 45,
     "metadata": {},
     "output_type": "execute_result"
    }
   ],
   "source": [
    "model_2 = sm.OLS.from_formula('Weight ~ Length1  +Length3 + Species_Parkki + Species_Perch  + Species_Roach + Species_Smelt + Species_Whitefish', data = df_train).fit()\n",
    "\n",
    "model_2.summary()"
   ]
  },
  {
   "cell_type": "markdown",
   "id": "a39ac7f8",
   "metadata": {},
   "source": [
    "* $Adjusted R^2$ = 0.95 and $R^2$ = 0.953 is quite high. It means the independent variables can explain 95% the variation of the dependent variable.\n",
    "* **F-test:**: \n",
    "    - Null hypothesis: all slope parameters are equal to 0.\n",
    "    - Alternative hypothesis: at least one of the slope parameters is not equal to zero. \\\n",
    "     p-value of *F-test* is nearly 0. It means the null hypothesis: the model with no independent variables fits the data should be rejected. Or,  **at least one of the slope parameters is not equal to 0.**\n",
    "* **t-test:** All p-values of t-test are smaller than 0.05. Therefore, **all independent variables have statistical significance.**   \n",
    "* **Durbin-Watson test:** Durbin-Watson value is 2.126, so it is in acceptable range (1.5-2.5). Therefore, there is no first order autocorrelation.\n",
    "* No exist multicolinearity\n",
    "* **Jarque-Bera test:**\n",
    "     - Null hypothesis: skewness is equal zero and the excess kurtosis is equal zero. \n",
    "     - Alternative hypothesis: skewness is different from zero or the excess kurtosis is different from zero. \\\n",
    "      p-value of JB test is 0.0885, greater than 0.05. Therefore, we fail to reject the null hypothesis. The residuals from OLS is normally distributed. \n",
    "* **White test:** (Shown below)\n",
    "     - Null hypothesis: Homoskedasticity is present\n",
    "     - Alternative hypothesis: Heteroskedasticity is present\n",
    "     p value of White test comes out to equal to 0.1722. Since the p-value is greater than 0.05, we fail to reject the null hypothesis. **There is no heteroskedasticity in this model.**\n",
    "\n",
    "To check homoskedasticity assumption, you can also use some test like Breusch–Pagan test, Goldfeld–Quandt test..."
   ]
  },
  {
   "cell_type": "code",
   "execution_count": 46,
   "id": "ec808bf0",
   "metadata": {},
   "outputs": [
    {
     "name": "stdout",
     "output_type": "stream",
     "text": [
      "{'Test Statistic': 25.80690199459297, 'Test Statistic p-value': 0.17228445291341318, 'F-Statistic': 1.3614810333699359, 'F-Test p-value': 0.16277189242905135}\n"
     ]
    }
   ],
   "source": [
    "# White's test for heteroskedasticity\n",
    "\n",
    "white_test = het_white(model_2.resid,  model_2.model.exog)\n",
    "\n",
    "labels = ['Test Statistic', 'Test Statistic p-value', 'F-Statistic', 'F-Test p-value']\n",
    "\n",
    "#print results of White's test\n",
    "print(dict(zip(labels, white_test)))\n",
    "\n"
   ]
  },
  {
   "cell_type": "code",
   "execution_count": 47,
   "id": "bcac4b65",
   "metadata": {},
   "outputs": [
    {
     "name": "stdout",
     "output_type": "stream",
     "text": [
      "R2: 0.9529405342317984\n",
      "RMSE: [516.29649267 494.46087723 515.34354023 515.34354023 528.73672338\n",
      " 487.26774886 516.29649267 508.45977856 523.13348194 514.86766799\n",
      " 508.93045983 497.19217107 515.88287662 496.6590972  494.3695119\n",
      " 471.36385194 493.97917099 527.8657648  522.07770643 485.35910077\n",
      " 488.35228206 515.34354023 491.04211155 489.18464923 497.13785291\n",
      " 529.31642718 496.05629149 526.23851251 510.22568287 487.00257808\n",
      " 492.56846048 495.56319281 498.19208028 497.01742923 497.08806677\n",
      " 505.57960367 533.70720292 489.87373485]\n"
     ]
    }
   ],
   "source": [
    "# Result of MLR by statmodels:\n",
    "from statsmodels.tools.eval_measures import rmse\n",
    "\n",
    "y_pred = model_2.predict(X_test)\n",
    "rmse_mlr_1 = rmse(y_test, y_pred)\n",
    "\n",
    "\n",
    "\n",
    "print('R2:', model_2.rsquared)\n",
    "print(f'RMSE:', rmse_mlr_1)\n"
   ]
  },
  {
   "cell_type": "code",
   "execution_count": 48,
   "id": "2a5e48d0",
   "metadata": {},
   "outputs": [
    {
     "name": "stdout",
     "output_type": "stream",
     "text": [
      "R2: 0.9529405342317984\n",
      "RMSE 125.15351708597571\n"
     ]
    }
   ],
   "source": [
    "# Train linear regression by Scikit-learn. (Must be same result)\n",
    "\n",
    "X_train_model_2 = X_train[[\"Length1\", \"Length3\",\"Species_Parkki\", \"Species_Perch\" ,\"Species_Roach\" , \"Species_Smelt\" ,\"Species_Whitefish\"]]\n",
    "y_train_model_2 = y_train\n",
    "X_test_model_2 = X_test[[\"Length1\", \"Length3\",\"Species_Parkki\", \"Species_Perch\" ,\"Species_Roach\" , \"Species_Smelt\" ,\"Species_Whitefish\"]]\n",
    "y_test_model_2 = y_test\n",
    "\n",
    "# Fitting the data\n",
    "\n",
    "lin_reg = LinearRegression().fit(X_train_model_2, y_train_model_2)\n",
    "\n",
    "lin_reg.coef_\n",
    "\n",
    "# Calculate R squared\n",
    "score = lin_reg.score(X_train_model_2, y_train_model_2)\n",
    "score_test = lin_reg.score(X_test_model_2, y_test_model_2)\n",
    "\n",
    "# Predict on test set\n",
    "\n",
    "y_pred_model_2 = lin_reg.predict(X_test_model_2)\n",
    "\n",
    "# Calculate RMSE\n",
    "rmse_mlr_2 = np.sqrt(mean_squared_error(y_test_model_2, y_pred_model_2))\n",
    "\n",
    "\n",
    "print('R2:', score)\n",
    "print('RMSE', rmse_mlr_2)\n",
    "\n"
   ]
  }
 ],
 "metadata": {
  "kernelspec": {
   "display_name": "Python 3 (ipykernel)",
   "language": "python",
   "name": "python3"
  },
  "language_info": {
   "codemirror_mode": {
    "name": "ipython",
    "version": 3
   },
   "file_extension": ".py",
   "mimetype": "text/x-python",
   "name": "python",
   "nbconvert_exporter": "python",
   "pygments_lexer": "ipython3",
   "version": "3.9.7"
  },
  "toc": {
   "base_numbering": 1,
   "nav_menu": {},
   "number_sections": true,
   "sideBar": true,
   "skip_h1_title": false,
   "title_cell": "Table of Contents",
   "title_sidebar": "Contents",
   "toc_cell": false,
   "toc_position": {
    "height": "calc(100% - 180px)",
    "left": "10px",
    "top": "150px",
    "width": "384px"
   },
   "toc_section_display": true,
   "toc_window_display": true
  },
  "varInspector": {
   "cols": {
    "lenName": 16,
    "lenType": 16,
    "lenVar": 40
   },
   "kernels_config": {
    "python": {
     "delete_cmd_postfix": "",
     "delete_cmd_prefix": "del ",
     "library": "var_list.py",
     "varRefreshCmd": "print(var_dic_list())"
    },
    "r": {
     "delete_cmd_postfix": ") ",
     "delete_cmd_prefix": "rm(",
     "library": "var_list.r",
     "varRefreshCmd": "cat(var_dic_list()) "
    }
   },
   "types_to_exclude": [
    "module",
    "function",
    "builtin_function_or_method",
    "instance",
    "_Feature"
   ],
   "window_display": true
  }
 },
 "nbformat": 4,
 "nbformat_minor": 5
}
